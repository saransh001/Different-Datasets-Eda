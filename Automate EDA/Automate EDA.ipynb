{
 "cells": [
  {
   "cell_type": "code",
   "execution_count": 4,
   "id": "e51cfe6b",
   "metadata": {},
   "outputs": [
    {
     "name": "stdout",
     "output_type": "stream",
     "text": [
      "Requirement already satisfied: pandas_profiling in c:\\users\\saran\\anaconda3\\lib\\site-packages (3.2.0)\n",
      "Requirement already satisfied: scipy>=1.4.1 in c:\\users\\saran\\anaconda3\\lib\\site-packages (from pandas_profiling) (1.7.3)\n",
      "Requirement already satisfied: numpy>=1.16.0 in c:\\users\\saran\\anaconda3\\lib\\site-packages (from pandas_profiling) (1.21.5)\n",
      "Requirement already satisfied: jinja2>=2.11.1 in c:\\users\\saran\\anaconda3\\lib\\site-packages (from pandas_profiling) (2.11.3)\n",
      "Requirement already satisfied: tqdm>=4.48.2 in c:\\users\\saran\\anaconda3\\lib\\site-packages (from pandas_profiling) (4.64.0)\n",
      "Requirement already satisfied: tangled-up-in-unicode==0.2.0 in c:\\users\\saran\\anaconda3\\lib\\site-packages (from pandas_profiling) (0.2.0)\n",
      "Requirement already satisfied: multimethod>=1.4 in c:\\users\\saran\\anaconda3\\lib\\site-packages (from pandas_profiling) (1.8)\n",
      "Requirement already satisfied: PyYAML>=5.0.0 in c:\\users\\saran\\anaconda3\\lib\\site-packages (from pandas_profiling) (6.0)\n",
      "Requirement already satisfied: requests>=2.24.0 in c:\\users\\saran\\anaconda3\\lib\\site-packages (from pandas_profiling) (2.27.1)\n",
      "Requirement already satisfied: seaborn>=0.10.1 in c:\\users\\saran\\anaconda3\\lib\\site-packages (from pandas_profiling) (0.11.2)\n",
      "Requirement already satisfied: pandas!=1.0.0,!=1.0.1,!=1.0.2,!=1.1.0,>=0.25.3 in c:\\users\\saran\\anaconda3\\lib\\site-packages (from pandas_profiling) (1.4.2)\n",
      "Requirement already satisfied: visions[type_image_path]==0.7.4 in c:\\users\\saran\\anaconda3\\lib\\site-packages (from pandas_profiling) (0.7.4)\n",
      "Requirement already satisfied: phik>=0.11.1 in c:\\users\\saran\\anaconda3\\lib\\site-packages (from pandas_profiling) (0.12.2)\n",
      "Requirement already satisfied: matplotlib>=3.2.0 in c:\\users\\saran\\anaconda3\\lib\\site-packages (from pandas_profiling) (3.5.1)\n",
      "Requirement already satisfied: missingno>=0.4.2 in c:\\users\\saran\\anaconda3\\lib\\site-packages (from pandas_profiling) (0.5.1)\n",
      "Requirement already satisfied: markupsafe~=2.1.1 in c:\\users\\saran\\anaconda3\\lib\\site-packages (from pandas_profiling) (2.1.1)\n",
      "Requirement already satisfied: joblib~=1.1.0 in c:\\users\\saran\\anaconda3\\lib\\site-packages (from pandas_profiling) (1.1.0)\n",
      "Requirement already satisfied: htmlmin>=0.1.12 in c:\\users\\saran\\anaconda3\\lib\\site-packages (from pandas_profiling) (0.1.12)\n",
      "Requirement already satisfied: pydantic>=1.8.1 in c:\\users\\saran\\anaconda3\\lib\\site-packages (from pandas_profiling) (1.10.1)\n",
      "Requirement already satisfied: networkx>=2.4 in c:\\users\\saran\\anaconda3\\lib\\site-packages (from visions[type_image_path]==0.7.4->pandas_profiling) (2.7.1)\n",
      "Requirement already satisfied: attrs>=19.3.0 in c:\\users\\saran\\anaconda3\\lib\\site-packages (from visions[type_image_path]==0.7.4->pandas_profiling) (21.4.0)\n",
      "Requirement already satisfied: imagehash in c:\\users\\saran\\anaconda3\\lib\\site-packages (from visions[type_image_path]==0.7.4->pandas_profiling) (4.2.1)\n",
      "Requirement already satisfied: Pillow in c:\\users\\saran\\anaconda3\\lib\\site-packages (from visions[type_image_path]==0.7.4->pandas_profiling) (9.0.1)\n",
      "Requirement already satisfied: cycler>=0.10 in c:\\users\\saran\\anaconda3\\lib\\site-packages (from matplotlib>=3.2.0->pandas_profiling) (0.11.0)\n",
      "Requirement already satisfied: kiwisolver>=1.0.1 in c:\\users\\saran\\anaconda3\\lib\\site-packages (from matplotlib>=3.2.0->pandas_profiling) (1.3.2)\n",
      "Requirement already satisfied: pyparsing>=2.2.1 in c:\\users\\saran\\anaconda3\\lib\\site-packages (from matplotlib>=3.2.0->pandas_profiling) (3.0.4)\n",
      "Requirement already satisfied: python-dateutil>=2.7 in c:\\users\\saran\\anaconda3\\lib\\site-packages (from matplotlib>=3.2.0->pandas_profiling) (2.8.2)\n",
      "Requirement already satisfied: fonttools>=4.22.0 in c:\\users\\saran\\anaconda3\\lib\\site-packages (from matplotlib>=3.2.0->pandas_profiling) (4.25.0)\n",
      "Requirement already satisfied: packaging>=20.0 in c:\\users\\saran\\anaconda3\\lib\\site-packages (from matplotlib>=3.2.0->pandas_profiling) (21.3)\n",
      "Requirement already satisfied: pytz>=2020.1 in c:\\users\\saran\\anaconda3\\lib\\site-packages (from pandas!=1.0.0,!=1.0.1,!=1.0.2,!=1.1.0,>=0.25.3->pandas_profiling) (2021.3)\n",
      "Requirement already satisfied: typing-extensions>=4.1.0 in c:\\users\\saran\\anaconda3\\lib\\site-packages (from pydantic>=1.8.1->pandas_profiling) (4.1.1)\n",
      "Requirement already satisfied: six>=1.5 in c:\\users\\saran\\anaconda3\\lib\\site-packages (from python-dateutil>=2.7->matplotlib>=3.2.0->pandas_profiling) (1.16.0)\n",
      "Requirement already satisfied: certifi>=2017.4.17 in c:\\users\\saran\\anaconda3\\lib\\site-packages (from requests>=2.24.0->pandas_profiling) (2021.10.8)\n",
      "Requirement already satisfied: urllib3<1.27,>=1.21.1 in c:\\users\\saran\\anaconda3\\lib\\site-packages (from requests>=2.24.0->pandas_profiling) (1.26.9)\n",
      "Requirement already satisfied: idna<4,>=2.5 in c:\\users\\saran\\anaconda3\\lib\\site-packages (from requests>=2.24.0->pandas_profiling) (3.3)\n",
      "Requirement already satisfied: charset-normalizer~=2.0.0 in c:\\users\\saran\\anaconda3\\lib\\site-packages (from requests>=2.24.0->pandas_profiling) (2.0.4)\n",
      "Requirement already satisfied: colorama in c:\\users\\saran\\anaconda3\\lib\\site-packages (from tqdm>=4.48.2->pandas_profiling) (0.4.4)\n",
      "Requirement already satisfied: PyWavelets in c:\\users\\saran\\anaconda3\\lib\\site-packages (from imagehash->visions[type_image_path]==0.7.4->pandas_profiling) (1.3.0)\n"
     ]
    }
   ],
   "source": [
    "# Automated EDA Techniques.\n",
    "!pip install pandas-profiling"
   ]
  },
  {
   "cell_type": "code",
   "execution_count": 22,
   "id": "e994a0f6",
   "metadata": {},
   "outputs": [],
   "source": [
    "from pandas_profiling import ProfileReport\n",
    "import warnings\n",
    "warnings.simplefilter('ignore',None)"
   ]
  },
  {
   "cell_type": "code",
   "execution_count": 4,
   "id": "4d634035",
   "metadata": {},
   "outputs": [],
   "source": [
    "import seaborn as sns"
   ]
  },
  {
   "cell_type": "code",
   "execution_count": 5,
   "id": "5c49cc16",
   "metadata": {},
   "outputs": [],
   "source": [
    "df=sns.load_dataset('tips')"
   ]
  },
  {
   "cell_type": "code",
   "execution_count": 6,
   "id": "f97907c6",
   "metadata": {},
   "outputs": [
    {
     "data": {
      "text/html": [
       "<div>\n",
       "<style scoped>\n",
       "    .dataframe tbody tr th:only-of-type {\n",
       "        vertical-align: middle;\n",
       "    }\n",
       "\n",
       "    .dataframe tbody tr th {\n",
       "        vertical-align: top;\n",
       "    }\n",
       "\n",
       "    .dataframe thead th {\n",
       "        text-align: right;\n",
       "    }\n",
       "</style>\n",
       "<table border=\"1\" class=\"dataframe\">\n",
       "  <thead>\n",
       "    <tr style=\"text-align: right;\">\n",
       "      <th></th>\n",
       "      <th>total_bill</th>\n",
       "      <th>tip</th>\n",
       "      <th>sex</th>\n",
       "      <th>smoker</th>\n",
       "      <th>day</th>\n",
       "      <th>time</th>\n",
       "      <th>size</th>\n",
       "    </tr>\n",
       "  </thead>\n",
       "  <tbody>\n",
       "    <tr>\n",
       "      <th>0</th>\n",
       "      <td>16.99</td>\n",
       "      <td>1.01</td>\n",
       "      <td>Female</td>\n",
       "      <td>No</td>\n",
       "      <td>Sun</td>\n",
       "      <td>Dinner</td>\n",
       "      <td>2</td>\n",
       "    </tr>\n",
       "    <tr>\n",
       "      <th>1</th>\n",
       "      <td>10.34</td>\n",
       "      <td>1.66</td>\n",
       "      <td>Male</td>\n",
       "      <td>No</td>\n",
       "      <td>Sun</td>\n",
       "      <td>Dinner</td>\n",
       "      <td>3</td>\n",
       "    </tr>\n",
       "  </tbody>\n",
       "</table>\n",
       "</div>"
      ],
      "text/plain": [
       "   total_bill   tip     sex smoker  day    time  size\n",
       "0       16.99  1.01  Female     No  Sun  Dinner     2\n",
       "1       10.34  1.66    Male     No  Sun  Dinner     3"
      ]
     },
     "execution_count": 6,
     "metadata": {},
     "output_type": "execute_result"
    }
   ],
   "source": [
    "df.head(2)"
   ]
  },
  {
   "cell_type": "code",
   "execution_count": 7,
   "id": "83c0fe19",
   "metadata": {},
   "outputs": [],
   "source": [
    "Profile=ProfileReport(df,explorative=True,dark_mode=True)"
   ]
  },
  {
   "cell_type": "code",
   "execution_count": 8,
   "id": "fb8756be",
   "metadata": {},
   "outputs": [
    {
     "data": {
      "application/vnd.jupyter.widget-view+json": {
       "model_id": "ad611efeeca64f7d89436b8b121e4311",
       "version_major": 2,
       "version_minor": 0
      },
      "text/plain": [
       "Summarize dataset:   0%|          | 0/5 [00:00<?, ?it/s]"
      ]
     },
     "metadata": {},
     "output_type": "display_data"
    },
    {
     "data": {
      "application/vnd.jupyter.widget-view+json": {
       "model_id": "b4b4cc0c2a894ae29db54d4cbeea9825",
       "version_major": 2,
       "version_minor": 0
      },
      "text/plain": [
       "Generate report structure:   0%|          | 0/1 [00:00<?, ?it/s]"
      ]
     },
     "metadata": {},
     "output_type": "display_data"
    },
    {
     "data": {
      "application/vnd.jupyter.widget-view+json": {
       "model_id": "6723debebd4245e6a74a87d41db568a3",
       "version_major": 2,
       "version_minor": 0
      },
      "text/plain": [
       "Render HTML:   0%|          | 0/1 [00:00<?, ?it/s]"
      ]
     },
     "metadata": {},
     "output_type": "display_data"
    },
    {
     "data": {
      "application/vnd.jupyter.widget-view+json": {
       "model_id": "33b731b3b0974696abef3b1deecc734d",
       "version_major": 2,
       "version_minor": 0
      },
      "text/plain": [
       "Export report to file:   0%|          | 0/1 [00:00<?, ?it/s]"
      ]
     },
     "metadata": {},
     "output_type": "display_data"
    }
   ],
   "source": [
    "Profile.to_file('output.html')"
   ]
  },
  {
   "cell_type": "code",
   "execution_count": 9,
   "id": "7f8195af",
   "metadata": {},
   "outputs": [
    {
     "name": "stdout",
     "output_type": "stream",
     "text": [
      "Collecting dtale\n",
      "  Downloading dtale-2.7.1-py2.py3-none-any.whl (12.8 MB)\n",
      "     ---------------------------------------- 12.8/12.8 MB 8.1 MB/s eta 0:00:00\n",
      "Requirement already satisfied: scikit-learn in c:\\users\\saran\\anaconda3\\lib\\site-packages (from dtale) (1.1.1)\n",
      "Collecting lz4\n",
      "  Downloading lz4-4.0.2-cp39-cp39-win_amd64.whl (98 kB)\n",
      "     ---------------------------------------- 98.9/98.9 kB 5.5 MB/s eta 0:00:00\n",
      "Requirement already satisfied: certifi in c:\\users\\saran\\anaconda3\\lib\\site-packages (from dtale) (2022.6.15)\n",
      "Requirement already satisfied: pandas in c:\\users\\saran\\anaconda3\\lib\\site-packages (from dtale) (1.4.3)\n",
      "Requirement already satisfied: six in c:\\users\\saran\\anaconda3\\lib\\site-packages (from dtale) (1.16.0)\n",
      "Requirement already satisfied: Flask in c:\\users\\saran\\anaconda3\\lib\\site-packages (from dtale) (1.1.2)\n",
      "Requirement already satisfied: requests in c:\\users\\saran\\anaconda3\\lib\\site-packages (from dtale) (2.28.1)\n",
      "Requirement already satisfied: scipy in c:\\users\\saran\\anaconda3\\lib\\site-packages (from dtale) (1.7.3)\n",
      "Requirement already satisfied: networkx in c:\\users\\saran\\anaconda3\\lib\\site-packages (from dtale) (2.8.4)\n",
      "Collecting squarify\n",
      "  Downloading squarify-0.4.3-py3-none-any.whl (4.3 kB)\n",
      "Collecting kaleido\n",
      "  Downloading kaleido-0.2.1-py2.py3-none-win_amd64.whl (65.9 MB)\n",
      "     ---------------------------------------- 65.9/65.9 MB 6.5 MB/s eta 0:00:00\n",
      "Requirement already satisfied: statsmodels in c:\\users\\saran\\anaconda3\\lib\\site-packages (from dtale) (0.13.2)\n",
      "Requirement already satisfied: cycler in c:\\users\\saran\\anaconda3\\lib\\site-packages (from dtale) (0.11.0)\n",
      "Collecting dash-colorscales\n",
      "  Downloading dash_colorscales-0.0.4.tar.gz (62 kB)\n",
      "     ---------------------------------------- 62.3/62.3 kB 3.5 MB/s eta 0:00:00\n",
      "  Preparing metadata (setup.py): started\n",
      "  Preparing metadata (setup.py): finished with status 'done'\n",
      "Requirement already satisfied: openpyxl in c:\\users\\saran\\anaconda3\\lib\\site-packages (from dtale) (3.0.10)\n",
      "Requirement already satisfied: itsdangerous in c:\\users\\saran\\anaconda3\\lib\\site-packages (from dtale) (2.0.1)\n",
      "Requirement already satisfied: et-xmlfile in c:\\users\\saran\\anaconda3\\lib\\site-packages (from dtale) (1.1.0)\n",
      "Requirement already satisfied: future>=0.14.0 in c:\\users\\saran\\anaconda3\\lib\\site-packages (from dtale) (0.18.2)\n",
      "Requirement already satisfied: matplotlib in c:\\users\\saran\\anaconda3\\lib\\site-packages (from dtale) (3.5.2)\n",
      "Requirement already satisfied: numpy in c:\\users\\saran\\anaconda3\\lib\\site-packages (from dtale) (1.21.5)\n",
      "Collecting strsimpy\n",
      "  Downloading strsimpy-0.2.1-py3-none-any.whl (45 kB)\n",
      "     ---------------------------------------- 45.9/45.9 kB 2.4 MB/s eta 0:00:00\n",
      "Collecting missingno<=0.4.2\n",
      "  Downloading missingno-0.4.2-py3-none-any.whl (9.7 kB)\n",
      "Collecting dash-bootstrap-components\n",
      "  Downloading dash_bootstrap_components-1.2.1-py3-none-any.whl (216 kB)\n",
      "     ------------------------------------- 216.1/216.1 kB 12.9 MB/s eta 0:00:00\n",
      "Requirement already satisfied: xlrd in c:\\users\\saran\\anaconda3\\lib\\site-packages (from dtale) (2.0.1)\n",
      "Collecting flask-ngrok\n",
      "  Downloading flask_ngrok-0.0.25-py3-none-any.whl (3.1 kB)\n",
      "Requirement already satisfied: seaborn in c:\\users\\saran\\anaconda3\\lib\\site-packages (from dtale) (0.11.2)\n",
      "Collecting dash-daq\n",
      "  Downloading dash_daq-0.5.0.tar.gz (642 kB)\n",
      "     -------------------------------------- 642.7/642.7 kB 8.1 MB/s eta 0:00:00\n",
      "  Preparing metadata (setup.py): started\n",
      "  Preparing metadata (setup.py): finished with status 'done'\n",
      "Collecting Flask-Compress\n",
      "  Downloading Flask_Compress-1.12-py3-none-any.whl (7.9 kB)\n",
      "Requirement already satisfied: xarray in c:\\users\\saran\\anaconda3\\lib\\site-packages (from dtale) (0.20.1)\n",
      "Requirement already satisfied: plotly>=5.0.0 in c:\\users\\saran\\anaconda3\\lib\\site-packages (from dtale) (5.9.0)\n",
      "Collecting dash>=2.0.0\n",
      "  Downloading dash-2.6.1-py3-none-any.whl (9.9 MB)\n",
      "     ---------------------------------------- 9.9/9.9 MB 7.9 MB/s eta 0:00:00\n",
      "Collecting dash-core-components==2.0.0\n",
      "  Downloading dash_core_components-2.0.0-py3-none-any.whl (3.8 kB)\n",
      "Collecting dash-table==5.0.0\n",
      "  Downloading dash_table-5.0.0-py3-none-any.whl (3.9 kB)\n",
      "Collecting dash-html-components==2.0.0\n",
      "  Downloading dash_html_components-2.0.0-py3-none-any.whl (4.1 kB)\n",
      "Requirement already satisfied: Jinja2>=2.10.1 in c:\\users\\saran\\anaconda3\\lib\\site-packages (from Flask->dtale) (2.11.3)\n",
      "Requirement already satisfied: Werkzeug>=0.15 in c:\\users\\saran\\anaconda3\\lib\\site-packages (from Flask->dtale) (2.0.3)\n",
      "Requirement already satisfied: click>=5.1 in c:\\users\\saran\\anaconda3\\lib\\site-packages (from Flask->dtale) (8.0.4)\n",
      "Requirement already satisfied: tenacity>=6.2.0 in c:\\users\\saran\\anaconda3\\lib\\site-packages (from plotly>=5.0.0->dtale) (8.0.1)\n",
      "Collecting brotli\n",
      "  Downloading Brotli-1.0.9-cp39-cp39-win_amd64.whl (383 kB)\n",
      "     -------------------------------------- 383.4/383.4 kB 7.9 MB/s eta 0:00:00\n",
      "Requirement already satisfied: pillow>=6.2.0 in c:\\users\\saran\\anaconda3\\lib\\site-packages (from matplotlib->dtale) (9.2.0)\n",
      "Requirement already satisfied: packaging>=20.0 in c:\\users\\saran\\anaconda3\\lib\\site-packages (from matplotlib->dtale) (21.3)\n",
      "Requirement already satisfied: kiwisolver>=1.0.1 in c:\\users\\saran\\anaconda3\\lib\\site-packages (from matplotlib->dtale) (1.4.2)\n",
      "Requirement already satisfied: python-dateutil>=2.7 in c:\\users\\saran\\anaconda3\\lib\\site-packages (from matplotlib->dtale) (2.8.2)\n",
      "Requirement already satisfied: pyparsing>=2.2.1 in c:\\users\\saran\\anaconda3\\lib\\site-packages (from matplotlib->dtale) (3.0.9)\n",
      "Requirement already satisfied: fonttools>=4.22.0 in c:\\users\\saran\\anaconda3\\lib\\site-packages (from matplotlib->dtale) (4.25.0)\n",
      "Requirement already satisfied: pytz>=2020.1 in c:\\users\\saran\\anaconda3\\lib\\site-packages (from pandas->dtale) (2022.1)\n",
      "Requirement already satisfied: idna<4,>=2.5 in c:\\users\\saran\\anaconda3\\lib\\site-packages (from requests->dtale) (3.3)\n",
      "Requirement already satisfied: charset-normalizer<3,>=2 in c:\\users\\saran\\anaconda3\\lib\\site-packages (from requests->dtale) (2.0.4)\n",
      "Requirement already satisfied: urllib3<1.27,>=1.21.1 in c:\\users\\saran\\anaconda3\\lib\\site-packages (from requests->dtale) (1.26.11)\n",
      "Requirement already satisfied: joblib>=1.0.0 in c:\\users\\saran\\anaconda3\\lib\\site-packages (from scikit-learn->dtale) (1.1.0)\n",
      "Requirement already satisfied: threadpoolctl>=2.0.0 in c:\\users\\saran\\anaconda3\\lib\\site-packages (from scikit-learn->dtale) (2.2.0)\n",
      "Requirement already satisfied: patsy>=0.5.2 in c:\\users\\saran\\anaconda3\\lib\\site-packages (from statsmodels->dtale) (0.5.2)\n",
      "Requirement already satisfied: colorama in c:\\users\\saran\\anaconda3\\lib\\site-packages (from click>=5.1->Flask->dtale) (0.4.5)\n",
      "Requirement already satisfied: MarkupSafe>=0.23 in c:\\users\\saran\\anaconda3\\lib\\site-packages (from Jinja2>=2.10.1->Flask->dtale) (2.1.1)\n",
      "Building wheels for collected packages: dash-colorscales, dash-daq\n",
      "  Building wheel for dash-colorscales (setup.py): started\n",
      "  Building wheel for dash-colorscales (setup.py): finished with status 'done'\n",
      "  Created wheel for dash-colorscales: filename=dash_colorscales-0.0.4-py3-none-any.whl size=62566 sha256=d45ef409108ce4e9c4ba4d37617802deb29e94f0cad48560c3bc1db52cbe32f2\n",
      "  Stored in directory: c:\\users\\saran\\appdata\\local\\pip\\cache\\wheels\\ec\\32\\ec\\dc8a1aa820182edf280a5e26c76fc9493ae29e196735708de2\n",
      "  Building wheel for dash-daq (setup.py): started\n",
      "  Building wheel for dash-daq (setup.py): finished with status 'done'\n",
      "  Created wheel for dash-daq: filename=dash_daq-0.5.0-py3-none-any.whl size=669692 sha256=66624d864901378e28e14c1dbb291d188190fc9539407632e45c4fe179cb0249\n",
      "  Stored in directory: c:\\users\\saran\\appdata\\local\\pip\\cache\\wheels\\53\\73\\ea\\8a422aab5cab848d88653ed3087c1fa05553c3fbd67fb6ab75\n",
      "Successfully built dash-colorscales dash-daq\n",
      "Installing collected packages: strsimpy, squarify, kaleido, dash-table, dash-html-components, dash-core-components, dash-colorscales, brotli, lz4, flask-ngrok, Flask-Compress, missingno, dash, dash-daq, dash-bootstrap-components, dtale\n",
      "  Attempting uninstall: missingno\n",
      "    Found existing installation: missingno 0.5.1\n",
      "    Uninstalling missingno-0.5.1:\n",
      "      Successfully uninstalled missingno-0.5.1\n",
      "Successfully installed Flask-Compress-1.12 brotli-1.0.9 dash-2.6.1 dash-bootstrap-components-1.2.1 dash-colorscales-0.0.4 dash-core-components-2.0.0 dash-daq-0.5.0 dash-html-components-2.0.0 dash-table-5.0.0 dtale-2.7.1 flask-ngrok-0.0.25 kaleido-0.2.1 lz4-4.0.2 missingno-0.4.2 squarify-0.4.3 strsimpy-0.2.1\n"
     ]
    }
   ],
   "source": [
    "# Detail\n",
    "!pip install dtale"
   ]
  },
  {
   "cell_type": "code",
   "execution_count": 12,
   "id": "0b1db314",
   "metadata": {},
   "outputs": [],
   "source": [
    "import pandas as pd\n",
    "import numpy as np\n",
    "import warnings\n",
    "warnings.simplefilter('ignore')"
   ]
  },
  {
   "cell_type": "code",
   "execution_count": 13,
   "id": "bb17a2f9",
   "metadata": {},
   "outputs": [
    {
     "data": {
      "text/html": [
       "\n",
       "        <iframe\n",
       "            width=\"100%\"\n",
       "            height=\"475\"\n",
       "            src=\"http://SaranshSehrawat:40000/dtale/iframe/2\"\n",
       "            frameborder=\"0\"\n",
       "            allowfullscreen\n",
       "            \n",
       "        ></iframe>\n",
       "        "
      ],
      "text/plain": [
       "<IPython.lib.display.IFrame at 0x192c668ac10>"
      ]
     },
     "metadata": {},
     "output_type": "display_data"
    },
    {
     "data": {
      "text/plain": []
     },
     "execution_count": 13,
     "metadata": {},
     "output_type": "execute_result"
    },
    {
     "name": "stderr",
     "output_type": "stream",
     "text": [
      "2022-09-04 04:17:38,914 - WARNING  - findfont: Font family ['Heiti TC'] not found. Falling back to DejaVu Sans.\n",
      "2022-09-04 04:17:42,773 - WARNING  - findfont: Font family ['Heiti TC'] not found. Falling back to DejaVu Sans.\n"
     ]
    }
   ],
   "source": [
    "import dtale\n",
    "dtale.show(df)"
   ]
  },
  {
   "cell_type": "code",
   "execution_count": 14,
   "id": "6b663f06",
   "metadata": {},
   "outputs": [
    {
     "name": "stdout",
     "output_type": "stream",
     "text": [
      "Collecting sweetviz\n",
      "  Downloading sweetviz-2.1.4-py3-none-any.whl (15.1 MB)\n",
      "     ---------------------------------------- 15.1/15.1 MB 5.4 MB/s eta 0:00:00\n",
      "Collecting importlib-resources>=1.2.0\n",
      "  Downloading importlib_resources-5.9.0-py3-none-any.whl (33 kB)\n",
      "Requirement already satisfied: tqdm>=4.43.0 in c:\\users\\saran\\anaconda3\\lib\\site-packages (from sweetviz) (4.64.0)\n",
      "Requirement already satisfied: pandas!=1.0.0,!=1.0.1,!=1.0.2,>=0.25.3 in c:\\users\\saran\\anaconda3\\lib\\site-packages (from sweetviz) (1.4.3)\n",
      "Requirement already satisfied: numpy>=1.16.0 in c:\\users\\saran\\anaconda3\\lib\\site-packages (from sweetviz) (1.21.5)\n",
      "Requirement already satisfied: matplotlib>=3.1.3 in c:\\users\\saran\\anaconda3\\lib\\site-packages (from sweetviz) (3.5.2)\n",
      "Requirement already satisfied: jinja2>=2.11.1 in c:\\users\\saran\\anaconda3\\lib\\site-packages (from sweetviz) (2.11.3)\n",
      "Requirement already satisfied: scipy>=1.3.2 in c:\\users\\saran\\anaconda3\\lib\\site-packages (from sweetviz) (1.7.3)\n",
      "Requirement already satisfied: zipp>=3.1.0 in c:\\users\\saran\\anaconda3\\lib\\site-packages (from importlib-resources>=1.2.0->sweetviz) (3.8.0)\n",
      "Requirement already satisfied: MarkupSafe>=0.23 in c:\\users\\saran\\anaconda3\\lib\\site-packages (from jinja2>=2.11.1->sweetviz) (2.1.1)\n",
      "Requirement already satisfied: fonttools>=4.22.0 in c:\\users\\saran\\anaconda3\\lib\\site-packages (from matplotlib>=3.1.3->sweetviz) (4.25.0)\n",
      "Requirement already satisfied: cycler>=0.10 in c:\\users\\saran\\anaconda3\\lib\\site-packages (from matplotlib>=3.1.3->sweetviz) (0.11.0)\n",
      "Requirement already satisfied: packaging>=20.0 in c:\\users\\saran\\anaconda3\\lib\\site-packages (from matplotlib>=3.1.3->sweetviz) (21.3)\n",
      "Requirement already satisfied: pillow>=6.2.0 in c:\\users\\saran\\anaconda3\\lib\\site-packages (from matplotlib>=3.1.3->sweetviz) (9.2.0)\n",
      "Requirement already satisfied: python-dateutil>=2.7 in c:\\users\\saran\\anaconda3\\lib\\site-packages (from matplotlib>=3.1.3->sweetviz) (2.8.2)\n",
      "Requirement already satisfied: pyparsing>=2.2.1 in c:\\users\\saran\\anaconda3\\lib\\site-packages (from matplotlib>=3.1.3->sweetviz) (3.0.9)\n",
      "Requirement already satisfied: kiwisolver>=1.0.1 in c:\\users\\saran\\anaconda3\\lib\\site-packages (from matplotlib>=3.1.3->sweetviz) (1.4.2)\n",
      "Requirement already satisfied: pytz>=2020.1 in c:\\users\\saran\\anaconda3\\lib\\site-packages (from pandas!=1.0.0,!=1.0.1,!=1.0.2,>=0.25.3->sweetviz) (2022.1)\n",
      "Requirement already satisfied: colorama in c:\\users\\saran\\anaconda3\\lib\\site-packages (from tqdm>=4.43.0->sweetviz) (0.4.5)\n",
      "Requirement already satisfied: six>=1.5 in c:\\users\\saran\\anaconda3\\lib\\site-packages (from python-dateutil>=2.7->matplotlib>=3.1.3->sweetviz) (1.16.0)\n",
      "Installing collected packages: importlib-resources, sweetviz\n",
      "Successfully installed importlib-resources-5.9.0 sweetviz-2.1.4\n"
     ]
    }
   ],
   "source": [
    "!pip install sweetviz"
   ]
  },
  {
   "cell_type": "code",
   "execution_count": 15,
   "id": "62ecdfef",
   "metadata": {},
   "outputs": [
    {
     "data": {
      "application/vnd.jupyter.widget-view+json": {
       "model_id": "cdd18ab4de3642a284f56270b846f328",
       "version_major": 2,
       "version_minor": 0
      },
      "text/plain": [
       "                                             |                                             | [  0%]   00:00 ->…"
      ]
     },
     "metadata": {},
     "output_type": "display_data"
    },
    {
     "name": "stdout",
     "output_type": "stream",
     "text": [
      "Report newreport.html was generated! NOTEBOOK/COLAB USERS: the web browser MAY not pop up, regardless, the report IS saved in your notebook/colab files.\n"
     ]
    }
   ],
   "source": [
    "import sweetviz as sv\n",
    "report=sv.analyze(df)\n",
    "report.show_html('newreport.html')"
   ]
  },
  {
   "cell_type": "code",
   "execution_count": 16,
   "id": "d2c57b3f",
   "metadata": {},
   "outputs": [
    {
     "name": "stdout",
     "output_type": "stream",
     "text": [
      "Collecting dataprep\n",
      "  Downloading dataprep-0.4.5-py3-none-any.whl (9.9 MB)\n",
      "     ---------------------------------------- 9.9/9.9 MB 7.2 MB/s eta 0:00:00\n",
      "Collecting wordcloud<2.0,>=1.8\n",
      "  Downloading wordcloud-1.8.2.2-cp39-cp39-win_amd64.whl (153 kB)\n",
      "     -------------------------------------- 153.1/153.1 kB 9.5 MB/s eta 0:00:00\n",
      "Collecting python-crfsuite==0.9.8\n",
      "  Downloading python_crfsuite-0.9.8-cp39-cp39-win_amd64.whl (158 kB)\n",
      "     -------------------------------------- 158.6/158.6 kB 9.9 MB/s eta 0:00:00\n",
      "Collecting regex<2022.0.0,>=2021.8.3\n",
      "  Downloading regex-2021.11.10-cp39-cp39-win_amd64.whl (273 kB)\n",
      "     -------------------------------------- 273.3/273.3 kB 4.2 MB/s eta 0:00:00\n",
      "Collecting jinja2<3.1,>=3.0\n",
      "  Downloading Jinja2-3.0.3-py3-none-any.whl (133 kB)\n",
      "     -------------------------------------- 133.6/133.6 kB 8.2 MB/s eta 0:00:00\n",
      "Requirement already satisfied: bokeh<3,>=2 in c:\\users\\saran\\anaconda3\\lib\\site-packages (from dataprep) (2.4.2)\n",
      "Collecting rapidfuzz<3.0.0,>=2.1.2\n",
      "  Downloading rapidfuzz-2.6.0-cp39-cp39-win_amd64.whl (1.4 MB)\n",
      "     ---------------------------------------- 1.4/1.4 MB 8.6 MB/s eta 0:00:00\n",
      "Requirement already satisfied: tqdm<5.0,>=4.48 in c:\\users\\saran\\anaconda3\\lib\\site-packages (from dataprep) (4.64.0)\n",
      "Requirement already satisfied: ipywidgets<8.0,>=7.5 in c:\\users\\saran\\anaconda3\\lib\\site-packages (from dataprep) (7.6.5)\n",
      "Collecting varname<0.9.0,>=0.8.1\n",
      "  Downloading varname-0.8.3-py3-none-any.whl (21 kB)\n",
      "Requirement already satisfied: pandas<2.0,>=1.1 in c:\\users\\saran\\anaconda3\\lib\\site-packages (from dataprep) (1.4.3)\n",
      "Collecting flask_cors<4.0.0,>=3.0.10\n",
      "  Downloading Flask_Cors-3.0.10-py2.py3-none-any.whl (14 kB)\n",
      "Requirement already satisfied: aiohttp<4.0,>=3.6 in c:\\users\\saran\\anaconda3\\lib\\site-packages (from dataprep) (3.8.1)\n",
      "Collecting dask[array,dataframe,delayed]>=2022.3.0\n",
      "  Downloading dask-2022.9.0-py3-none-any.whl (1.1 MB)\n",
      "     ---------------------------------------- 1.1/1.1 MB 10.2 MB/s eta 0:00:00\n",
      "Collecting scipy<2.0,>=1.8\n",
      "  Downloading scipy-1.9.1-cp39-cp39-win_amd64.whl (38.6 MB)\n",
      "     ---------------------------------------- 38.6/38.6 MB 6.4 MB/s eta 0:00:00\n",
      "Collecting jsonpath-ng<2.0,>=1.5\n",
      "  Downloading jsonpath_ng-1.5.3-py3-none-any.whl (29 kB)\n",
      "Collecting sqlalchemy==1.3.24\n",
      "  Downloading SQLAlchemy-1.3.24-cp39-cp39-win_amd64.whl (1.2 MB)\n",
      "     ---------------------------------------- 1.2/1.2 MB 7.8 MB/s eta 0:00:00\n",
      "Collecting pydot<2.0.0,>=1.4.2\n",
      "  Downloading pydot-1.4.2-py2.py3-none-any.whl (21 kB)\n",
      "Requirement already satisfied: pydantic<2.0,>=1.6 in c:\\users\\saran\\anaconda3\\lib\\site-packages (from dataprep) (1.10.1)\n",
      "Requirement already satisfied: numpy<2.0,>=1.21 in c:\\users\\saran\\anaconda3\\lib\\site-packages (from dataprep) (1.21.5)\n",
      "Collecting flask<3,>=2\n",
      "  Downloading Flask-2.2.2-py3-none-any.whl (101 kB)\n",
      "     -------------------------------------- 101.5/101.5 kB 5.7 MB/s eta 0:00:00\n",
      "Collecting python-stdnum<2.0,>=1.16\n",
      "  Downloading python_stdnum-1.17-py2.py3-none-any.whl (943 kB)\n",
      "     -------------------------------------- 943.4/943.4 kB 7.5 MB/s eta 0:00:00\n",
      "Collecting metaphone<0.7,>=0.6\n",
      "  Downloading Metaphone-0.6.tar.gz (14 kB)\n",
      "  Preparing metadata (setup.py): started\n",
      "  Preparing metadata (setup.py): finished with status 'done'\n",
      "Requirement already satisfied: nltk<4.0.0,>=3.6.7 in c:\\users\\saran\\anaconda3\\lib\\site-packages (from dataprep) (3.7)\n",
      "Requirement already satisfied: frozenlist>=1.1.1 in c:\\users\\saran\\anaconda3\\lib\\site-packages (from aiohttp<4.0,>=3.6->dataprep) (1.2.0)\n",
      "Requirement already satisfied: attrs>=17.3.0 in c:\\users\\saran\\anaconda3\\lib\\site-packages (from aiohttp<4.0,>=3.6->dataprep) (21.4.0)\n",
      "Requirement already satisfied: aiosignal>=1.1.2 in c:\\users\\saran\\anaconda3\\lib\\site-packages (from aiohttp<4.0,>=3.6->dataprep) (1.2.0)\n",
      "Requirement already satisfied: charset-normalizer<3.0,>=2.0 in c:\\users\\saran\\anaconda3\\lib\\site-packages (from aiohttp<4.0,>=3.6->dataprep) (2.0.4)\n",
      "Requirement already satisfied: yarl<2.0,>=1.0 in c:\\users\\saran\\anaconda3\\lib\\site-packages (from aiohttp<4.0,>=3.6->dataprep) (1.8.1)\n",
      "Requirement already satisfied: async-timeout<5.0,>=4.0.0a3 in c:\\users\\saran\\anaconda3\\lib\\site-packages (from aiohttp<4.0,>=3.6->dataprep) (4.0.1)\n",
      "Requirement already satisfied: multidict<7.0,>=4.5 in c:\\users\\saran\\anaconda3\\lib\\site-packages (from aiohttp<4.0,>=3.6->dataprep) (5.1.0)\n",
      "Requirement already satisfied: packaging>=16.8 in c:\\users\\saran\\anaconda3\\lib\\site-packages (from bokeh<3,>=2->dataprep) (21.3)"
     ]
    },
    {
     "name": "stderr",
     "output_type": "stream",
     "text": [
      "ERROR: pip's dependency resolver does not currently take into account all the packages that are installed. This behaviour is the source of the following dependency conflicts.\n",
      "jupyter-server 1.13.5 requires pywinpty<2; os_name == \"nt\", but you have pywinpty 2.0.2 which is incompatible.\n",
      "distributed 2022.2.1 requires dask==2022.02.1, but you have dask 2022.9.0 which is incompatible.\n"
     ]
    },
    {
     "name": "stdout",
     "output_type": "stream",
     "text": [
      "\n",
      "Requirement already satisfied: PyYAML>=3.10 in c:\\users\\saran\\anaconda3\\lib\\site-packages (from bokeh<3,>=2->dataprep) (6.0)\n",
      "Requirement already satisfied: tornado>=5.1 in c:\\users\\saran\\anaconda3\\lib\\site-packages (from bokeh<3,>=2->dataprep) (6.1)\n",
      "Requirement already satisfied: typing-extensions>=3.10.0 in c:\\users\\saran\\anaconda3\\lib\\site-packages (from bokeh<3,>=2->dataprep) (4.3.0)\n",
      "Requirement already satisfied: pillow>=7.1.0 in c:\\users\\saran\\anaconda3\\lib\\site-packages (from bokeh<3,>=2->dataprep) (9.2.0)\n",
      "Requirement already satisfied: partd>=0.3.10 in c:\\users\\saran\\anaconda3\\lib\\site-packages (from dask[array,dataframe,delayed]>=2022.3.0->dataprep) (1.2.0)\n",
      "Requirement already satisfied: toolz>=0.8.2 in c:\\users\\saran\\anaconda3\\lib\\site-packages (from dask[array,dataframe,delayed]>=2022.3.0->dataprep) (0.11.2)\n",
      "Requirement already satisfied: fsspec>=0.6.0 in c:\\users\\saran\\anaconda3\\lib\\site-packages (from dask[array,dataframe,delayed]>=2022.3.0->dataprep) (2022.7.1)\n",
      "Requirement already satisfied: cloudpickle>=1.1.1 in c:\\users\\saran\\anaconda3\\lib\\site-packages (from dask[array,dataframe,delayed]>=2022.3.0->dataprep) (2.0.0)\n",
      "Collecting Werkzeug>=2.2.2\n",
      "  Downloading Werkzeug-2.2.2-py3-none-any.whl (232 kB)\n",
      "     -------------------------------------- 232.7/232.7 kB 7.0 MB/s eta 0:00:00\n",
      "Requirement already satisfied: click>=8.0 in c:\\users\\saran\\anaconda3\\lib\\site-packages (from flask<3,>=2->dataprep) (8.0.4)\n",
      "Requirement already satisfied: itsdangerous>=2.0 in c:\\users\\saran\\anaconda3\\lib\\site-packages (from flask<3,>=2->dataprep) (2.0.1)\n",
      "Requirement already satisfied: importlib-metadata>=3.6.0 in c:\\users\\saran\\anaconda3\\lib\\site-packages (from flask<3,>=2->dataprep) (4.11.3)\n",
      "Requirement already satisfied: Six in c:\\users\\saran\\anaconda3\\lib\\site-packages (from flask_cors<4.0.0,>=3.0.10->dataprep) (1.16.0)\n",
      "Requirement already satisfied: ipython-genutils~=0.2.0 in c:\\users\\saran\\anaconda3\\lib\\site-packages (from ipywidgets<8.0,>=7.5->dataprep) (0.2.0)\n",
      "Requirement already satisfied: widgetsnbextension~=3.5.0 in c:\\users\\saran\\anaconda3\\lib\\site-packages (from ipywidgets<8.0,>=7.5->dataprep) (3.5.2)\n",
      "Requirement already satisfied: jupyterlab-widgets>=1.0.0 in c:\\users\\saran\\anaconda3\\lib\\site-packages (from ipywidgets<8.0,>=7.5->dataprep) (1.0.0)\n",
      "Requirement already satisfied: ipykernel>=4.5.1 in c:\\users\\saran\\anaconda3\\lib\\site-packages (from ipywidgets<8.0,>=7.5->dataprep) (6.9.1)\n",
      "Requirement already satisfied: ipython>=4.0.0 in c:\\users\\saran\\anaconda3\\lib\\site-packages (from ipywidgets<8.0,>=7.5->dataprep) (8.4.0)\n",
      "Requirement already satisfied: nbformat>=4.2.0 in c:\\users\\saran\\anaconda3\\lib\\site-packages (from ipywidgets<8.0,>=7.5->dataprep) (5.3.0)\n",
      "Requirement already satisfied: traitlets>=4.3.1 in c:\\users\\saran\\anaconda3\\lib\\site-packages (from ipywidgets<8.0,>=7.5->dataprep) (5.1.1)\n",
      "Requirement already satisfied: MarkupSafe>=2.0 in c:\\users\\saran\\anaconda3\\lib\\site-packages (from jinja2<3.1,>=3.0->dataprep) (2.1.1)\n",
      "Collecting ply\n",
      "  Downloading ply-3.11-py2.py3-none-any.whl (49 kB)\n",
      "     ---------------------------------------- 49.6/49.6 kB 2.6 MB/s eta 0:00:00\n",
      "Requirement already satisfied: decorator in c:\\users\\saran\\anaconda3\\lib\\site-packages (from jsonpath-ng<2.0,>=1.5->dataprep) (5.1.1)\n",
      "Requirement already satisfied: joblib in c:\\users\\saran\\anaconda3\\lib\\site-packages (from nltk<4.0.0,>=3.6.7->dataprep) (1.1.0)\n",
      "Requirement already satisfied: python-dateutil>=2.8.1 in c:\\users\\saran\\anaconda3\\lib\\site-packages (from pandas<2.0,>=1.1->dataprep) (2.8.2)\n",
      "Requirement already satisfied: pytz>=2020.1 in c:\\users\\saran\\anaconda3\\lib\\site-packages (from pandas<2.0,>=1.1->dataprep) (2022.1)\n",
      "Requirement already satisfied: pyparsing>=2.1.4 in c:\\users\\saran\\anaconda3\\lib\\site-packages (from pydot<2.0.0,>=1.4.2->dataprep) (3.0.9)\n",
      "Collecting jarowinkler<2.0.0,>=1.2.0\n",
      "  Downloading jarowinkler-1.2.1-cp39-cp39-win_amd64.whl (61 kB)\n",
      "     ---------------------------------------- 61.8/61.8 kB ? eta 0:00:00\n",
      "Requirement already satisfied: colorama in c:\\users\\saran\\anaconda3\\lib\\site-packages (from tqdm<5.0,>=4.48->dataprep) (0.4.5)\n",
      "Requirement already satisfied: pure_eval<1.0.0 in c:\\users\\saran\\anaconda3\\lib\\site-packages (from varname<0.9.0,>=0.8.1->dataprep) (0.2.2)\n",
      "Requirement already satisfied: executing<0.9.0,>=0.8.3 in c:\\users\\saran\\anaconda3\\lib\\site-packages (from varname<0.9.0,>=0.8.1->dataprep) (0.8.3)\n",
      "Requirement already satisfied: asttokens<3.0.0,>=2.0.0 in c:\\users\\saran\\anaconda3\\lib\\site-packages (from varname<0.9.0,>=0.8.1->dataprep) (2.0.5)\n",
      "Requirement already satisfied: matplotlib in c:\\users\\saran\\anaconda3\\lib\\site-packages (from wordcloud<2.0,>=1.8->dataprep) (3.5.2)\n",
      "Requirement already satisfied: zipp>=0.5 in c:\\users\\saran\\anaconda3\\lib\\site-packages (from importlib-metadata>=3.6.0->flask<3,>=2->dataprep) (3.8.0)\n",
      "Requirement already satisfied: jupyter-client<8.0 in c:\\users\\saran\\anaconda3\\lib\\site-packages (from ipykernel>=4.5.1->ipywidgets<8.0,>=7.5->dataprep) (6.1.12)\n",
      "Requirement already satisfied: matplotlib-inline<0.2.0,>=0.1.0 in c:\\users\\saran\\anaconda3\\lib\\site-packages (from ipykernel>=4.5.1->ipywidgets<8.0,>=7.5->dataprep) (0.1.6)\n",
      "Requirement already satisfied: nest-asyncio in c:\\users\\saran\\anaconda3\\lib\\site-packages (from ipykernel>=4.5.1->ipywidgets<8.0,>=7.5->dataprep) (1.5.5)\n",
      "Requirement already satisfied: debugpy<2.0,>=1.0.0 in c:\\users\\saran\\anaconda3\\lib\\site-packages (from ipykernel>=4.5.1->ipywidgets<8.0,>=7.5->dataprep) (1.5.1)\n",
      "Requirement already satisfied: jedi>=0.16 in c:\\users\\saran\\anaconda3\\lib\\site-packages (from ipython>=4.0.0->ipywidgets<8.0,>=7.5->dataprep) (0.18.1)\n",
      "Requirement already satisfied: stack-data in c:\\users\\saran\\anaconda3\\lib\\site-packages (from ipython>=4.0.0->ipywidgets<8.0,>=7.5->dataprep) (0.2.0)\n",
      "Requirement already satisfied: setuptools>=18.5 in c:\\users\\saran\\anaconda3\\lib\\site-packages (from ipython>=4.0.0->ipywidgets<8.0,>=7.5->dataprep) (63.4.1)\n",
      "Requirement already satisfied: pickleshare in c:\\users\\saran\\anaconda3\\lib\\site-packages (from ipython>=4.0.0->ipywidgets<8.0,>=7.5->dataprep) (0.7.5)\n",
      "Requirement already satisfied: backcall in c:\\users\\saran\\anaconda3\\lib\\site-packages (from ipython>=4.0.0->ipywidgets<8.0,>=7.5->dataprep) (0.2.0)\n",
      "Requirement already satisfied: prompt-toolkit!=3.0.0,!=3.0.1,<3.1.0,>=2.0.0 in c:\\users\\saran\\anaconda3\\lib\\site-packages (from ipython>=4.0.0->ipywidgets<8.0,>=7.5->dataprep) (3.0.20)\n",
      "Requirement already satisfied: pygments>=2.4.0 in c:\\users\\saran\\anaconda3\\lib\\site-packages (from ipython>=4.0.0->ipywidgets<8.0,>=7.5->dataprep) (2.11.2)\n",
      "Requirement already satisfied: fastjsonschema in c:\\users\\saran\\anaconda3\\lib\\site-packages (from nbformat>=4.2.0->ipywidgets<8.0,>=7.5->dataprep) (2.16.2)\n",
      "Requirement already satisfied: jsonschema>=2.6 in c:\\users\\saran\\anaconda3\\lib\\site-packages (from nbformat>=4.2.0->ipywidgets<8.0,>=7.5->dataprep) (4.4.0)\n",
      "Requirement already satisfied: jupyter-core in c:\\users\\saran\\anaconda3\\lib\\site-packages (from nbformat>=4.2.0->ipywidgets<8.0,>=7.5->dataprep) (4.10.0)\n",
      "Requirement already satisfied: locket in c:\\users\\saran\\anaconda3\\lib\\site-packages (from partd>=0.3.10->dask[array,dataframe,delayed]>=2022.3.0->dataprep) (1.0.0)\n",
      "Requirement already satisfied: notebook>=4.4.1 in c:\\users\\saran\\anaconda3\\lib\\site-packages (from widgetsnbextension~=3.5.0->ipywidgets<8.0,>=7.5->dataprep) (6.4.8)\n",
      "Requirement already satisfied: idna>=2.0 in c:\\users\\saran\\anaconda3\\lib\\site-packages (from yarl<2.0,>=1.0->aiohttp<4.0,>=3.6->dataprep) (3.3)\n",
      "Requirement already satisfied: cycler>=0.10 in c:\\users\\saran\\anaconda3\\lib\\site-packages (from matplotlib->wordcloud<2.0,>=1.8->dataprep) (0.11.0)\n",
      "Requirement already satisfied: kiwisolver>=1.0.1 in c:\\users\\saran\\anaconda3\\lib\\site-packages (from matplotlib->wordcloud<2.0,>=1.8->dataprep) (1.4.2)\n",
      "Requirement already satisfied: fonttools>=4.22.0 in c:\\users\\saran\\anaconda3\\lib\\site-packages (from matplotlib->wordcloud<2.0,>=1.8->dataprep) (4.25.0)\n",
      "Requirement already satisfied: parso<0.9.0,>=0.8.0 in c:\\users\\saran\\anaconda3\\lib\\site-packages (from jedi>=0.16->ipython>=4.0.0->ipywidgets<8.0,>=7.5->dataprep) (0.8.3)\n",
      "Requirement already satisfied: pyrsistent!=0.17.0,!=0.17.1,!=0.17.2,>=0.14.0 in c:\\users\\saran\\anaconda3\\lib\\site-packages (from jsonschema>=2.6->nbformat>=4.2.0->ipywidgets<8.0,>=7.5->dataprep) (0.18.0)\n",
      "Requirement already satisfied: pyzmq>=13 in c:\\users\\saran\\anaconda3\\lib\\site-packages (from jupyter-client<8.0->ipykernel>=4.5.1->ipywidgets<8.0,>=7.5->dataprep) (23.2.0)\n",
      "Requirement already satisfied: pywin32>=1.0 in c:\\users\\saran\\anaconda3\\lib\\site-packages (from jupyter-core->nbformat>=4.2.0->ipywidgets<8.0,>=7.5->dataprep) (302)\n",
      "Requirement already satisfied: nbconvert in c:\\users\\saran\\anaconda3\\lib\\site-packages (from notebook>=4.4.1->widgetsnbextension~=3.5.0->ipywidgets<8.0,>=7.5->dataprep) (6.4.4)\n",
      "Requirement already satisfied: prometheus-client in c:\\users\\saran\\anaconda3\\lib\\site-packages (from notebook>=4.4.1->widgetsnbextension~=3.5.0->ipywidgets<8.0,>=7.5->dataprep) (0.14.1)\n",
      "Requirement already satisfied: argon2-cffi in c:\\users\\saran\\anaconda3\\lib\\site-packages (from notebook>=4.4.1->widgetsnbextension~=3.5.0->ipywidgets<8.0,>=7.5->dataprep) (21.3.0)\n",
      "Requirement already satisfied: Send2Trash>=1.8.0 in c:\\users\\saran\\anaconda3\\lib\\site-packages (from notebook>=4.4.1->widgetsnbextension~=3.5.0->ipywidgets<8.0,>=7.5->dataprep) (1.8.0)\n",
      "Requirement already satisfied: terminado>=0.8.3 in c:\\users\\saran\\anaconda3\\lib\\site-packages (from notebook>=4.4.1->widgetsnbextension~=3.5.0->ipywidgets<8.0,>=7.5->dataprep) (0.13.1)\n",
      "Requirement already satisfied: wcwidth in c:\\users\\saran\\anaconda3\\lib\\site-packages (from prompt-toolkit!=3.0.0,!=3.0.1,<3.1.0,>=2.0.0->ipython>=4.0.0->ipywidgets<8.0,>=7.5->dataprep) (0.2.5)\n",
      "Requirement already satisfied: pywinpty>=1.1.0 in c:\\users\\saran\\anaconda3\\lib\\site-packages (from terminado>=0.8.3->notebook>=4.4.1->widgetsnbextension~=3.5.0->ipywidgets<8.0,>=7.5->dataprep) (2.0.2)\n",
      "Requirement already satisfied: argon2-cffi-bindings in c:\\users\\saran\\anaconda3\\lib\\site-packages (from argon2-cffi->notebook>=4.4.1->widgetsnbextension~=3.5.0->ipywidgets<8.0,>=7.5->dataprep) (21.2.0)\n",
      "Requirement already satisfied: mistune<2,>=0.8.1 in c:\\users\\saran\\anaconda3\\lib\\site-packages (from nbconvert->notebook>=4.4.1->widgetsnbextension~=3.5.0->ipywidgets<8.0,>=7.5->dataprep) (0.8.4)\n",
      "Requirement already satisfied: pandocfilters>=1.4.1 in c:\\users\\saran\\anaconda3\\lib\\site-packages (from nbconvert->notebook>=4.4.1->widgetsnbextension~=3.5.0->ipywidgets<8.0,>=7.5->dataprep) (1.5.0)\n",
      "Requirement already satisfied: beautifulsoup4 in c:\\users\\saran\\anaconda3\\lib\\site-packages (from nbconvert->notebook>=4.4.1->widgetsnbextension~=3.5.0->ipywidgets<8.0,>=7.5->dataprep) (4.11.1)\n",
      "Requirement already satisfied: testpath in c:\\users\\saran\\anaconda3\\lib\\site-packages (from nbconvert->notebook>=4.4.1->widgetsnbextension~=3.5.0->ipywidgets<8.0,>=7.5->dataprep) (0.6.0)\n",
      "Requirement already satisfied: bleach in c:\\users\\saran\\anaconda3\\lib\\site-packages (from nbconvert->notebook>=4.4.1->widgetsnbextension~=3.5.0->ipywidgets<8.0,>=7.5->dataprep) (4.1.0)\n",
      "Requirement already satisfied: nbclient<0.6.0,>=0.5.0 in c:\\users\\saran\\anaconda3\\lib\\site-packages (from nbconvert->notebook>=4.4.1->widgetsnbextension~=3.5.0->ipywidgets<8.0,>=7.5->dataprep) (0.5.13)\n",
      "Requirement already satisfied: defusedxml in c:\\users\\saran\\anaconda3\\lib\\site-packages (from nbconvert->notebook>=4.4.1->widgetsnbextension~=3.5.0->ipywidgets<8.0,>=7.5->dataprep) (0.7.1)\n",
      "Requirement already satisfied: entrypoints>=0.2.2 in c:\\users\\saran\\anaconda3\\lib\\site-packages (from nbconvert->notebook>=4.4.1->widgetsnbextension~=3.5.0->ipywidgets<8.0,>=7.5->dataprep) (0.4)\n",
      "Requirement already satisfied: jupyterlab-pygments in c:\\users\\saran\\anaconda3\\lib\\site-packages (from nbconvert->notebook>=4.4.1->widgetsnbextension~=3.5.0->ipywidgets<8.0,>=7.5->dataprep) (0.1.2)\n",
      "Requirement already satisfied: cffi>=1.0.1 in c:\\users\\saran\\anaconda3\\lib\\site-packages (from argon2-cffi-bindings->argon2-cffi->notebook>=4.4.1->widgetsnbextension~=3.5.0->ipywidgets<8.0,>=7.5->dataprep) (1.15.1)\n",
      "Requirement already satisfied: soupsieve>1.2 in c:\\users\\saran\\anaconda3\\lib\\site-packages (from beautifulsoup4->nbconvert->notebook>=4.4.1->widgetsnbextension~=3.5.0->ipywidgets<8.0,>=7.5->dataprep) (2.3.1)\n",
      "Requirement already satisfied: webencodings in c:\\users\\saran\\anaconda3\\lib\\site-packages (from bleach->nbconvert->notebook>=4.4.1->widgetsnbextension~=3.5.0->ipywidgets<8.0,>=7.5->dataprep) (0.5.1)\n",
      "Requirement already satisfied: pycparser in c:\\users\\saran\\anaconda3\\lib\\site-packages (from cffi>=1.0.1->argon2-cffi-bindings->argon2-cffi->notebook>=4.4.1->widgetsnbextension~=3.5.0->ipywidgets<8.0,>=7.5->dataprep) (2.21)\n",
      "Building wheels for collected packages: metaphone\n",
      "  Building wheel for metaphone (setup.py): started\n",
      "  Building wheel for metaphone (setup.py): finished with status 'done'\n",
      "  Created wheel for metaphone: filename=Metaphone-0.6-py3-none-any.whl size=13901 sha256=14ae6a8ce9f681f3d62be907308bebc8c2ab53fa455229661e6c32c74624ffcc\n",
      "  Stored in directory: c:\\users\\saran\\appdata\\local\\pip\\cache\\wheels\\b2\\9e\\d9\\26be7687b8fe36cd6cacbec34e825a3dbcd3bae54017cfb385\n",
      "Successfully built metaphone\n",
      "Installing collected packages: regex, python-stdnum, python-crfsuite, ply, metaphone, Werkzeug, sqlalchemy, scipy, pydot, jsonpath-ng, jinja2, jarowinkler, varname, rapidfuzz, flask, dask, wordcloud, flask_cors, dataprep\n",
      "  Attempting uninstall: regex\n",
      "    Found existing installation: regex 2022.7.9\n",
      "    Uninstalling regex-2022.7.9:\n",
      "      Successfully uninstalled regex-2022.7.9\n",
      "  Attempting uninstall: Werkzeug\n",
      "    Found existing installation: Werkzeug 2.0.3\n",
      "    Uninstalling Werkzeug-2.0.3:\n",
      "      Successfully uninstalled Werkzeug-2.0.3\n",
      "  Attempting uninstall: sqlalchemy\n",
      "    Found existing installation: SQLAlchemy 1.4.39\n",
      "    Uninstalling SQLAlchemy-1.4.39:\n",
      "      Successfully uninstalled SQLAlchemy-1.4.39\n",
      "  Attempting uninstall: scipy\n",
      "    Found existing installation: scipy 1.7.3\n",
      "    Uninstalling scipy-1.7.3:\n",
      "      Successfully uninstalled scipy-1.7.3\n",
      "  Attempting uninstall: jinja2\n",
      "    Found existing installation: Jinja2 2.11.3\n",
      "    Uninstalling Jinja2-2.11.3:\n",
      "      Successfully uninstalled Jinja2-2.11.3\n",
      "  Attempting uninstall: flask\n",
      "    Found existing installation: Flask 1.1.2\n",
      "    Uninstalling Flask-1.1.2:\n",
      "      Successfully uninstalled Flask-1.1.2\n",
      "  Attempting uninstall: dask\n",
      "    Found existing installation: dask 2022.2.1\n",
      "    Uninstalling dask-2022.2.1:\n",
      "      Successfully uninstalled dask-2022.2.1\n",
      "Successfully installed Werkzeug-2.2.2 dask-2022.9.0 dataprep-0.4.5 flask-2.2.2 flask_cors-3.0.10 jarowinkler-1.2.1 jinja2-3.0.3 jsonpath-ng-1.5.3 metaphone-0.6 ply-3.11 pydot-1.4.2 python-crfsuite-0.9.8 python-stdnum-1.17 rapidfuzz-2.6.0 regex-2021.11.10 scipy-1.9.1 sqlalchemy-1.3.24 varname-0.8.3 wordcloud-1.8.2.2\n"
     ]
    }
   ],
   "source": [
    "#!pip install dataprep"
   ]
  },
  {
   "cell_type": "code",
   "execution_count": 20,
   "id": "bedf64c6",
   "metadata": {},
   "outputs": [
    {
     "ename": "TypeError",
     "evalue": "derived_from() got an unexpected keyword argument 'inconsistencies'",
     "output_type": "error",
     "traceback": [
      "\u001b[1;31m---------------------------------------------------------------------------\u001b[0m",
      "\u001b[1;31mTypeError\u001b[0m                                 Traceback (most recent call last)",
      "Input \u001b[1;32mIn [20]\u001b[0m, in \u001b[0;36m<cell line: 1>\u001b[1;34m()\u001b[0m\n\u001b[1;32m----> 1\u001b[0m \u001b[38;5;28;01mfrom\u001b[39;00m \u001b[38;5;21;01mdataprep\u001b[39;00m\u001b[38;5;21;01m.\u001b[39;00m\u001b[38;5;21;01meda\u001b[39;00m \u001b[38;5;28;01mimport\u001b[39;00m create_report\n\u001b[0;32m      2\u001b[0m create_report(df)\n",
      "File \u001b[1;32m~\\anaconda3\\lib\\site-packages\\dataprep\\eda\\__init__.py:8\u001b[0m, in \u001b[0;36m<module>\u001b[1;34m\u001b[0m\n\u001b[0;32m      5\u001b[0m \u001b[38;5;28;01mfrom\u001b[39;00m \u001b[38;5;21;01mbokeh\u001b[39;00m\u001b[38;5;21;01m.\u001b[39;00m\u001b[38;5;21;01mio\u001b[39;00m \u001b[38;5;28;01mimport\u001b[39;00m output_notebook\n\u001b[0;32m      7\u001b[0m \u001b[38;5;28;01mfrom\u001b[39;00m \u001b[38;5;21;01m.\u001b[39;00m\u001b[38;5;21;01m.\u001b[39;00m\u001b[38;5;21;01mutils\u001b[39;00m \u001b[38;5;28;01mimport\u001b[39;00m is_notebook\n\u001b[1;32m----> 8\u001b[0m \u001b[38;5;28;01mfrom\u001b[39;00m \u001b[38;5;21;01m.\u001b[39;00m\u001b[38;5;21;01mcorrelation\u001b[39;00m \u001b[38;5;28;01mimport\u001b[39;00m compute_correlation, plot_correlation, render_correlation\n\u001b[0;32m      9\u001b[0m \u001b[38;5;28;01mfrom\u001b[39;00m \u001b[38;5;21;01m.\u001b[39;00m\u001b[38;5;21;01mcreate_report\u001b[39;00m \u001b[38;5;28;01mimport\u001b[39;00m create_report\n\u001b[0;32m     10\u001b[0m \u001b[38;5;28;01mfrom\u001b[39;00m \u001b[38;5;21;01m.\u001b[39;00m\u001b[38;5;21;01mcreate_db_report\u001b[39;00m \u001b[38;5;28;01mimport\u001b[39;00m create_db_report\n",
      "File \u001b[1;32m~\\anaconda3\\lib\\site-packages\\dataprep\\eda\\correlation\\__init__.py:7\u001b[0m, in \u001b[0;36m<module>\u001b[1;34m\u001b[0m\n\u001b[0;32m      1\u001b[0m \u001b[38;5;124;03m\"\"\"\u001b[39;00m\n\u001b[0;32m      2\u001b[0m \u001b[38;5;124;03m    This module implements the plot_correlation(df) function.\u001b[39;00m\n\u001b[0;32m      3\u001b[0m \u001b[38;5;124;03m\"\"\"\u001b[39;00m\n\u001b[0;32m      5\u001b[0m \u001b[38;5;28;01mfrom\u001b[39;00m \u001b[38;5;21;01mtyping\u001b[39;00m \u001b[38;5;28;01mimport\u001b[39;00m Any, Dict, List, Optional, Tuple, Union\n\u001b[1;32m----> 7\u001b[0m \u001b[38;5;28;01mimport\u001b[39;00m \u001b[38;5;21;01mdask\u001b[39;00m\u001b[38;5;21;01m.\u001b[39;00m\u001b[38;5;21;01mdataframe\u001b[39;00m \u001b[38;5;28;01mas\u001b[39;00m \u001b[38;5;21;01mdd\u001b[39;00m\n\u001b[0;32m      8\u001b[0m \u001b[38;5;28;01mimport\u001b[39;00m \u001b[38;5;21;01mpandas\u001b[39;00m \u001b[38;5;28;01mas\u001b[39;00m \u001b[38;5;21;01mpd\u001b[39;00m\n\u001b[0;32m     10\u001b[0m \u001b[38;5;28;01mfrom\u001b[39;00m \u001b[38;5;21;01m.\u001b[39;00m\u001b[38;5;21;01m.\u001b[39;00m\u001b[38;5;21;01mconfigs\u001b[39;00m \u001b[38;5;28;01mimport\u001b[39;00m Config\n",
      "File \u001b[1;32m~\\anaconda3\\lib\\site-packages\\dask\\dataframe\\__init__.py:4\u001b[0m, in \u001b[0;36m<module>\u001b[1;34m\u001b[0m\n\u001b[0;32m      2\u001b[0m \u001b[38;5;28;01mimport\u001b[39;00m \u001b[38;5;21;01mdask\u001b[39;00m\u001b[38;5;21;01m.\u001b[39;00m\u001b[38;5;21;01mdataframe\u001b[39;00m\u001b[38;5;21;01m.\u001b[39;00m\u001b[38;5;21;01m_pyarrow_compat\u001b[39;00m\n\u001b[0;32m      3\u001b[0m \u001b[38;5;28;01mfrom\u001b[39;00m \u001b[38;5;21;01mdask\u001b[39;00m\u001b[38;5;21;01m.\u001b[39;00m\u001b[38;5;21;01mbase\u001b[39;00m \u001b[38;5;28;01mimport\u001b[39;00m compute\n\u001b[1;32m----> 4\u001b[0m \u001b[38;5;28;01mfrom\u001b[39;00m \u001b[38;5;21;01mdask\u001b[39;00m\u001b[38;5;21;01m.\u001b[39;00m\u001b[38;5;21;01mdataframe\u001b[39;00m \u001b[38;5;28;01mimport\u001b[39;00m backends, dispatch, rolling\n\u001b[0;32m      5\u001b[0m \u001b[38;5;28;01mfrom\u001b[39;00m \u001b[38;5;21;01mdask\u001b[39;00m\u001b[38;5;21;01m.\u001b[39;00m\u001b[38;5;21;01mdataframe\u001b[39;00m\u001b[38;5;21;01m.\u001b[39;00m\u001b[38;5;21;01mcore\u001b[39;00m \u001b[38;5;28;01mimport\u001b[39;00m (\n\u001b[0;32m      6\u001b[0m     DataFrame,\n\u001b[0;32m      7\u001b[0m     Index,\n\u001b[1;32m   (...)\u001b[0m\n\u001b[0;32m     13\u001b[0m     to_timedelta,\n\u001b[0;32m     14\u001b[0m )\n\u001b[0;32m     15\u001b[0m \u001b[38;5;28;01mfrom\u001b[39;00m \u001b[38;5;21;01mdask\u001b[39;00m\u001b[38;5;21;01m.\u001b[39;00m\u001b[38;5;21;01mdataframe\u001b[39;00m\u001b[38;5;21;01m.\u001b[39;00m\u001b[38;5;21;01mgroupby\u001b[39;00m \u001b[38;5;28;01mimport\u001b[39;00m Aggregation\n",
      "File \u001b[1;32m~\\anaconda3\\lib\\site-packages\\dask\\dataframe\\backends.py:20\u001b[0m, in \u001b[0;36m<module>\u001b[1;34m\u001b[0m\n\u001b[0;32m     18\u001b[0m \u001b[38;5;28;01mfrom\u001b[39;00m \u001b[38;5;21;01mdask\u001b[39;00m\u001b[38;5;21;01m.\u001b[39;00m\u001b[38;5;21;01marray\u001b[39;00m\u001b[38;5;21;01m.\u001b[39;00m\u001b[38;5;21;01mdispatch\u001b[39;00m \u001b[38;5;28;01mimport\u001b[39;00m percentile_lookup\n\u001b[0;32m     19\u001b[0m \u001b[38;5;28;01mfrom\u001b[39;00m \u001b[38;5;21;01mdask\u001b[39;00m\u001b[38;5;21;01m.\u001b[39;00m\u001b[38;5;21;01marray\u001b[39;00m\u001b[38;5;21;01m.\u001b[39;00m\u001b[38;5;21;01mpercentile\u001b[39;00m \u001b[38;5;28;01mimport\u001b[39;00m _percentile\n\u001b[1;32m---> 20\u001b[0m \u001b[38;5;28;01mfrom\u001b[39;00m \u001b[38;5;21;01mdask\u001b[39;00m\u001b[38;5;21;01m.\u001b[39;00m\u001b[38;5;21;01mdataframe\u001b[39;00m\u001b[38;5;21;01m.\u001b[39;00m\u001b[38;5;21;01mcore\u001b[39;00m \u001b[38;5;28;01mimport\u001b[39;00m DataFrame, Index, Scalar, Series, _Frame\n\u001b[0;32m     21\u001b[0m \u001b[38;5;28;01mfrom\u001b[39;00m \u001b[38;5;21;01mdask\u001b[39;00m\u001b[38;5;21;01m.\u001b[39;00m\u001b[38;5;21;01mdataframe\u001b[39;00m\u001b[38;5;21;01m.\u001b[39;00m\u001b[38;5;21;01mdispatch\u001b[39;00m \u001b[38;5;28;01mimport\u001b[39;00m (\n\u001b[0;32m     22\u001b[0m     categorical_dtype_dispatch,\n\u001b[0;32m     23\u001b[0m     concat,\n\u001b[1;32m   (...)\u001b[0m\n\u001b[0;32m     35\u001b[0m     union_categoricals_dispatch,\n\u001b[0;32m     36\u001b[0m )\n\u001b[0;32m     37\u001b[0m \u001b[38;5;28;01mfrom\u001b[39;00m \u001b[38;5;21;01mdask\u001b[39;00m\u001b[38;5;21;01m.\u001b[39;00m\u001b[38;5;21;01mdataframe\u001b[39;00m\u001b[38;5;21;01m.\u001b[39;00m\u001b[38;5;21;01mextensions\u001b[39;00m \u001b[38;5;28;01mimport\u001b[39;00m make_array_nonempty, make_scalar\n",
      "File \u001b[1;32m~\\anaconda3\\lib\\site-packages\\dask\\dataframe\\core.py:35\u001b[0m, in \u001b[0;36m<module>\u001b[1;34m\u001b[0m\n\u001b[0;32m     33\u001b[0m \u001b[38;5;28;01mfrom\u001b[39;00m \u001b[38;5;21;01mdask\u001b[39;00m\u001b[38;5;21;01m.\u001b[39;00m\u001b[38;5;21;01mblockwise\u001b[39;00m \u001b[38;5;28;01mimport\u001b[39;00m Blockwise, BlockwiseDep, BlockwiseDepDict, blockwise\n\u001b[0;32m     34\u001b[0m \u001b[38;5;28;01mfrom\u001b[39;00m \u001b[38;5;21;01mdask\u001b[39;00m\u001b[38;5;21;01m.\u001b[39;00m\u001b[38;5;21;01mcontext\u001b[39;00m \u001b[38;5;28;01mimport\u001b[39;00m globalmethod\n\u001b[1;32m---> 35\u001b[0m \u001b[38;5;28;01mfrom\u001b[39;00m \u001b[38;5;21;01mdask\u001b[39;00m\u001b[38;5;21;01m.\u001b[39;00m\u001b[38;5;21;01mdataframe\u001b[39;00m \u001b[38;5;28;01mimport\u001b[39;00m methods\n\u001b[0;32m     36\u001b[0m \u001b[38;5;28;01mfrom\u001b[39;00m \u001b[38;5;21;01mdask\u001b[39;00m\u001b[38;5;21;01m.\u001b[39;00m\u001b[38;5;21;01mdataframe\u001b[39;00m\u001b[38;5;21;01m.\u001b[39;00m\u001b[38;5;21;01m_compat\u001b[39;00m \u001b[38;5;28;01mimport\u001b[39;00m PANDAS_GT_140, PANDAS_GT_150\n\u001b[0;32m     37\u001b[0m \u001b[38;5;28;01mfrom\u001b[39;00m \u001b[38;5;21;01mdask\u001b[39;00m\u001b[38;5;21;01m.\u001b[39;00m\u001b[38;5;21;01mdataframe\u001b[39;00m\u001b[38;5;21;01m.\u001b[39;00m\u001b[38;5;21;01maccessor\u001b[39;00m \u001b[38;5;28;01mimport\u001b[39;00m CachedAccessor, DatetimeAccessor, StringAccessor\n",
      "File \u001b[1;32m~\\anaconda3\\lib\\site-packages\\dask\\dataframe\\methods.py:22\u001b[0m, in \u001b[0;36m<module>\u001b[1;34m\u001b[0m\n\u001b[0;32m     10\u001b[0m \u001b[38;5;66;03m#  preserve compatibility while moving dispatch objects\u001b[39;00m\n\u001b[0;32m     11\u001b[0m \u001b[38;5;28;01mfrom\u001b[39;00m \u001b[38;5;21;01mdask\u001b[39;00m\u001b[38;5;21;01m.\u001b[39;00m\u001b[38;5;21;01mdataframe\u001b[39;00m\u001b[38;5;21;01m.\u001b[39;00m\u001b[38;5;21;01mdispatch\u001b[39;00m \u001b[38;5;28;01mimport\u001b[39;00m (  \u001b[38;5;66;03m# noqa: F401\u001b[39;00m\n\u001b[0;32m     12\u001b[0m     concat,\n\u001b[0;32m     13\u001b[0m     concat_dispatch,\n\u001b[1;32m   (...)\u001b[0m\n\u001b[0;32m     20\u001b[0m     union_categoricals,\n\u001b[0;32m     21\u001b[0m )\n\u001b[1;32m---> 22\u001b[0m \u001b[38;5;28;01mfrom\u001b[39;00m \u001b[38;5;21;01mdask\u001b[39;00m\u001b[38;5;21;01m.\u001b[39;00m\u001b[38;5;21;01mdataframe\u001b[39;00m\u001b[38;5;21;01m.\u001b[39;00m\u001b[38;5;21;01mutils\u001b[39;00m \u001b[38;5;28;01mimport\u001b[39;00m is_dataframe_like, is_index_like, is_series_like\n\u001b[0;32m     24\u001b[0m \u001b[38;5;66;03m# cuDF may try to import old dispatch functions\u001b[39;00m\n\u001b[0;32m     25\u001b[0m hash_df \u001b[38;5;241m=\u001b[39m hash_object_dispatch\n",
      "File \u001b[1;32m~\\anaconda3\\lib\\site-packages\\dask\\dataframe\\utils.py:19\u001b[0m, in \u001b[0;36m<module>\u001b[1;34m\u001b[0m\n\u001b[0;32m     17\u001b[0m \u001b[38;5;28;01mfrom\u001b[39;00m \u001b[38;5;21;01mdask\u001b[39;00m\u001b[38;5;21;01m.\u001b[39;00m\u001b[38;5;21;01mbase\u001b[39;00m \u001b[38;5;28;01mimport\u001b[39;00m get_scheduler, is_dask_collection\n\u001b[0;32m     18\u001b[0m \u001b[38;5;28;01mfrom\u001b[39;00m \u001b[38;5;21;01mdask\u001b[39;00m\u001b[38;5;21;01m.\u001b[39;00m\u001b[38;5;21;01mcore\u001b[39;00m \u001b[38;5;28;01mimport\u001b[39;00m get_deps\n\u001b[1;32m---> 19\u001b[0m \u001b[38;5;28;01mfrom\u001b[39;00m \u001b[38;5;21;01mdask\u001b[39;00m\u001b[38;5;21;01m.\u001b[39;00m\u001b[38;5;21;01mdataframe\u001b[39;00m \u001b[38;5;28;01mimport\u001b[39;00m (  \u001b[38;5;66;03m# noqa: F401 register pandas extension types\u001b[39;00m\n\u001b[0;32m     20\u001b[0m     _dtypes,\n\u001b[0;32m     21\u001b[0m     methods,\n\u001b[0;32m     22\u001b[0m )\n\u001b[0;32m     23\u001b[0m \u001b[38;5;28;01mfrom\u001b[39;00m \u001b[38;5;21;01mdask\u001b[39;00m\u001b[38;5;21;01m.\u001b[39;00m\u001b[38;5;21;01mdataframe\u001b[39;00m\u001b[38;5;21;01m.\u001b[39;00m\u001b[38;5;21;01m_compat\u001b[39;00m \u001b[38;5;28;01mimport\u001b[39;00m PANDAS_GT_110, PANDAS_GT_120, tm  \u001b[38;5;66;03m# noqa: F401\u001b[39;00m\n\u001b[0;32m     24\u001b[0m \u001b[38;5;28;01mfrom\u001b[39;00m \u001b[38;5;21;01mdask\u001b[39;00m\u001b[38;5;21;01m.\u001b[39;00m\u001b[38;5;21;01mdataframe\u001b[39;00m\u001b[38;5;21;01m.\u001b[39;00m\u001b[38;5;21;01mdispatch\u001b[39;00m \u001b[38;5;28;01mimport\u001b[39;00m (  \u001b[38;5;66;03m# noqa : F401\u001b[39;00m\n\u001b[0;32m     25\u001b[0m     make_meta,\n\u001b[0;32m     26\u001b[0m     make_meta_obj,\n\u001b[0;32m     27\u001b[0m     meta_nonempty,\n\u001b[0;32m     28\u001b[0m )\n",
      "File \u001b[1;32m~\\anaconda3\\lib\\site-packages\\dask\\dataframe\\_dtypes.py:3\u001b[0m, in \u001b[0;36m<module>\u001b[1;34m\u001b[0m\n\u001b[0;32m      1\u001b[0m \u001b[38;5;28;01mimport\u001b[39;00m \u001b[38;5;21;01mpandas\u001b[39;00m \u001b[38;5;28;01mas\u001b[39;00m \u001b[38;5;21;01mpd\u001b[39;00m\n\u001b[1;32m----> 3\u001b[0m \u001b[38;5;28;01mfrom\u001b[39;00m \u001b[38;5;21;01mdask\u001b[39;00m\u001b[38;5;21;01m.\u001b[39;00m\u001b[38;5;21;01mdataframe\u001b[39;00m\u001b[38;5;21;01m.\u001b[39;00m\u001b[38;5;21;01mextensions\u001b[39;00m \u001b[38;5;28;01mimport\u001b[39;00m make_array_nonempty, make_scalar\n\u001b[0;32m      6\u001b[0m \u001b[38;5;129m@make_array_nonempty\u001b[39m\u001b[38;5;241m.\u001b[39mregister(pd\u001b[38;5;241m.\u001b[39mDatetimeTZDtype)\n\u001b[0;32m      7\u001b[0m \u001b[38;5;28;01mdef\u001b[39;00m \u001b[38;5;21m_\u001b[39m(dtype):\n\u001b[0;32m      8\u001b[0m     \u001b[38;5;28;01mreturn\u001b[39;00m pd\u001b[38;5;241m.\u001b[39marray([pd\u001b[38;5;241m.\u001b[39mTimestamp(\u001b[38;5;241m1\u001b[39m), pd\u001b[38;5;241m.\u001b[39mNaT], dtype\u001b[38;5;241m=\u001b[39mdtype)\n",
      "File \u001b[1;32m~\\anaconda3\\lib\\site-packages\\dask\\dataframe\\extensions.py:6\u001b[0m, in \u001b[0;36m<module>\u001b[1;34m\u001b[0m\n\u001b[0;32m      1\u001b[0m \u001b[38;5;124;03m\"\"\"\u001b[39;00m\n\u001b[0;32m      2\u001b[0m \u001b[38;5;124;03mSupport for pandas ExtensionArray in dask.dataframe.\u001b[39;00m\n\u001b[0;32m      3\u001b[0m \n\u001b[0;32m      4\u001b[0m \u001b[38;5;124;03mSee :ref:`extensionarrays` for more.\u001b[39;00m\n\u001b[0;32m      5\u001b[0m \u001b[38;5;124;03m\"\"\"\u001b[39;00m\n\u001b[1;32m----> 6\u001b[0m \u001b[38;5;28;01mfrom\u001b[39;00m \u001b[38;5;21;01mdask\u001b[39;00m\u001b[38;5;21;01m.\u001b[39;00m\u001b[38;5;21;01mdataframe\u001b[39;00m\u001b[38;5;21;01m.\u001b[39;00m\u001b[38;5;21;01maccessor\u001b[39;00m \u001b[38;5;28;01mimport\u001b[39;00m (\n\u001b[0;32m      7\u001b[0m     register_dataframe_accessor,\n\u001b[0;32m      8\u001b[0m     register_index_accessor,\n\u001b[0;32m      9\u001b[0m     register_series_accessor,\n\u001b[0;32m     10\u001b[0m )\n\u001b[0;32m     11\u001b[0m \u001b[38;5;28;01mfrom\u001b[39;00m \u001b[38;5;21;01mdask\u001b[39;00m\u001b[38;5;21;01m.\u001b[39;00m\u001b[38;5;21;01mutils\u001b[39;00m \u001b[38;5;28;01mimport\u001b[39;00m Dispatch\n\u001b[0;32m     13\u001b[0m make_array_nonempty \u001b[38;5;241m=\u001b[39m Dispatch(\u001b[38;5;124m\"\u001b[39m\u001b[38;5;124mmake_array_nonempty\u001b[39m\u001b[38;5;124m\"\u001b[39m)\n",
      "File \u001b[1;32m~\\anaconda3\\lib\\site-packages\\dask\\dataframe\\accessor.py:190\u001b[0m, in \u001b[0;36m<module>\u001b[1;34m\u001b[0m\n\u001b[0;32m    129\u001b[0m     _accessor_methods \u001b[38;5;241m=\u001b[39m (\n\u001b[0;32m    130\u001b[0m         \u001b[38;5;124m\"\u001b[39m\u001b[38;5;124masfreq\u001b[39m\u001b[38;5;124m\"\u001b[39m,\n\u001b[0;32m    131\u001b[0m         \u001b[38;5;124m\"\u001b[39m\u001b[38;5;124mceil\u001b[39m\u001b[38;5;124m\"\u001b[39m,\n\u001b[1;32m   (...)\u001b[0m\n\u001b[0;32m    145\u001b[0m         \u001b[38;5;124m\"\u001b[39m\u001b[38;5;124mtz_localize\u001b[39m\u001b[38;5;124m\"\u001b[39m,\n\u001b[0;32m    146\u001b[0m     )\n\u001b[0;32m    148\u001b[0m     _accessor_properties \u001b[38;5;241m=\u001b[39m (\n\u001b[0;32m    149\u001b[0m         \u001b[38;5;124m\"\u001b[39m\u001b[38;5;124mcomponents\u001b[39m\u001b[38;5;124m\"\u001b[39m,\n\u001b[0;32m    150\u001b[0m         \u001b[38;5;124m\"\u001b[39m\u001b[38;5;124mdate\u001b[39m\u001b[38;5;124m\"\u001b[39m,\n\u001b[1;32m   (...)\u001b[0m\n\u001b[0;32m    186\u001b[0m         \u001b[38;5;124m\"\u001b[39m\u001b[38;5;124myear\u001b[39m\u001b[38;5;124m\"\u001b[39m,\n\u001b[0;32m    187\u001b[0m     )\n\u001b[1;32m--> 190\u001b[0m \u001b[38;5;28;01mclass\u001b[39;00m \u001b[38;5;21;01mStringAccessor\u001b[39;00m(Accessor):\n\u001b[0;32m    191\u001b[0m     \u001b[38;5;124;03m\"\"\"Accessor object for string properties of the Series values.\u001b[39;00m\n\u001b[0;32m    192\u001b[0m \n\u001b[0;32m    193\u001b[0m \u001b[38;5;124;03m    Examples\u001b[39;00m\n\u001b[1;32m   (...)\u001b[0m\n\u001b[0;32m    196\u001b[0m \u001b[38;5;124;03m    >>> s.str.lower()  # doctest: +SKIP\u001b[39;00m\n\u001b[0;32m    197\u001b[0m \u001b[38;5;124;03m    \"\"\"\u001b[39;00m\n\u001b[0;32m    199\u001b[0m     _accessor_name \u001b[38;5;241m=\u001b[39m \u001b[38;5;124m\"\u001b[39m\u001b[38;5;124mstr\u001b[39m\u001b[38;5;124m\"\u001b[39m\n",
      "File \u001b[1;32m~\\anaconda3\\lib\\site-packages\\dask\\dataframe\\accessor.py:275\u001b[0m, in \u001b[0;36mStringAccessor\u001b[1;34m()\u001b[0m\n\u001b[0;32m    272\u001b[0m         meta \u001b[38;5;241m=\u001b[39m (\u001b[38;5;28mself\u001b[39m\u001b[38;5;241m.\u001b[39m_series\u001b[38;5;241m.\u001b[39mname, \u001b[38;5;28mobject\u001b[39m)\n\u001b[0;32m    273\u001b[0m     \u001b[38;5;28;01mreturn\u001b[39;00m \u001b[38;5;28mself\u001b[39m\u001b[38;5;241m.\u001b[39m_function_map(method, pat\u001b[38;5;241m=\u001b[39mpat, n\u001b[38;5;241m=\u001b[39mn, expand\u001b[38;5;241m=\u001b[39mexpand, meta\u001b[38;5;241m=\u001b[39mmeta)\n\u001b[1;32m--> 275\u001b[0m \u001b[38;5;129m@derived_from\u001b[39m\u001b[43m(\u001b[49m\n\u001b[0;32m    276\u001b[0m \u001b[43m    \u001b[49m\u001b[43mpd\u001b[49m\u001b[38;5;241;43m.\u001b[39;49m\u001b[43mcore\u001b[49m\u001b[38;5;241;43m.\u001b[39;49m\u001b[43mstrings\u001b[49m\u001b[38;5;241;43m.\u001b[39;49m\u001b[43mStringMethods\u001b[49m\u001b[43m,\u001b[49m\n\u001b[0;32m    277\u001b[0m \u001b[43m    \u001b[49m\u001b[43minconsistencies\u001b[49m\u001b[38;5;241;43m=\u001b[39;49m\u001b[38;5;124;43m\"\u001b[39;49m\u001b[38;5;124;43m``expand=True`` with unknown ``n`` will raise a ``NotImplementedError``\u001b[39;49m\u001b[38;5;124;43m\"\u001b[39;49m\u001b[43m,\u001b[49m\n\u001b[0;32m    278\u001b[0m \u001b[43m\u001b[49m\u001b[43m)\u001b[49m\n\u001b[0;32m    279\u001b[0m \u001b[38;5;28;01mdef\u001b[39;00m \u001b[38;5;21msplit\u001b[39m(\u001b[38;5;28mself\u001b[39m, pat\u001b[38;5;241m=\u001b[39m\u001b[38;5;28;01mNone\u001b[39;00m, n\u001b[38;5;241m=\u001b[39m\u001b[38;5;241m-\u001b[39m\u001b[38;5;241m1\u001b[39m, expand\u001b[38;5;241m=\u001b[39m\u001b[38;5;28;01mFalse\u001b[39;00m):\n\u001b[0;32m    280\u001b[0m     \u001b[38;5;124;03m\"\"\"Known inconsistencies: ``expand=True`` with unknown ``n`` will raise a ``NotImplementedError``.\"\"\"\u001b[39;00m\n\u001b[0;32m    281\u001b[0m     \u001b[38;5;28;01mreturn\u001b[39;00m \u001b[38;5;28mself\u001b[39m\u001b[38;5;241m.\u001b[39m_split(\u001b[38;5;124m\"\u001b[39m\u001b[38;5;124msplit\u001b[39m\u001b[38;5;124m\"\u001b[39m, pat\u001b[38;5;241m=\u001b[39mpat, n\u001b[38;5;241m=\u001b[39mn, expand\u001b[38;5;241m=\u001b[39mexpand)\n",
      "\u001b[1;31mTypeError\u001b[0m: derived_from() got an unexpected keyword argument 'inconsistencies'"
     ]
    }
   ],
   "source": [
    "from dataprep.eda import create_report\n",
    "create_report(df)"
   ]
  },
  {
   "cell_type": "code",
   "execution_count": 19,
   "id": "aa249ff1",
   "metadata": {},
   "outputs": [
    {
     "name": "stdout",
     "output_type": "stream",
     "text": [
      "Collecting lux"
     ]
    },
    {
     "name": "stderr",
     "output_type": "stream",
     "text": [
      "  error: subprocess-exited-with-error\n",
      "  \n",
      "  python setup.py egg_info did not run successfully.\n",
      "  exit code: 1\n",
      "  \n",
      "  [8 lines of output]\n"
     ]
    },
    {
     "name": "stdout",
     "output_type": "stream",
     "text": [
      "\n",
      "  Using cached lux-0.5.1.tar.gz (14 kB)\n",
      "  Preparing metadata (setup.py): started\n",
      "  Preparing metadata (setup.py): finished with status 'done'\n",
      "Collecting lux-api\n",
      "  Using cached lux-api-0.5.1.tar.gz (127 kB)\n",
      "  Installing build dependencies: started\n",
      "  Installing build dependencies: finished with status 'done'\n",
      "  Getting requirements to build wheel: started\n",
      "  Getting requirements to build wheel: finished with status 'done'\n",
      "  Preparing metadata (pyproject.toml): started\n",
      "  Preparing metadata (pyproject.toml): finished with status 'done'\n",
      "Collecting lux-widget\n",
      "  Using cached lux-widget-0.1.11.tar.gz (2.5 MB)\n",
      "  Preparing metadata (setup.py): started\n",
      "  Preparing metadata (setup.py): finished with status 'done'\n",
      "Collecting iso3166\n",
      "  Downloading iso3166-2.1.1-py3-none-any.whl (9.8 kB)\n",
      "Requirement already satisfied: psutil>=5.9.0 in c:\\users\\saran\\anaconda3\\lib\\site-packages (from lux-api->lux) (5.9.0)\n",
      "Requirement already satisfied: numpy>=1.16.5 in c:\\users\\saran\\anaconda3\\lib\\site-packages (from lux-api->lux) (1.21.5)\n",
      "Requirement already satisfied: scipy>=1.3.3 in c:\\users\\saran\\anaconda3\\lib\\site-packages (from lux-api->lux) (1.9.1)\n",
      "Requirement already satisfied: scikit-learn>=0.22 in c:\\users\\saran\\anaconda3\\lib\\site-packages (from lux-api->lux) (1.1.1)\n",
      "Requirement already satisfied: matplotlib>=3.0.0 in c:\\users\\saran\\anaconda3\\lib\\site-packages (from lux-api->lux) (3.5.2)\n",
      "Requirement already satisfied: autopep8>=1.5 in c:\\users\\saran\\anaconda3\\lib\\site-packages (from lux-api->lux) (1.6.0)\n",
      "Collecting sh\n",
      "  Using cached sh-1.14.3.tar.gz (62 kB)\n",
      "  Preparing metadata (setup.py): started\n",
      "  Preparing metadata (setup.py): finished with status 'error'\n"
     ]
    },
    {
     "name": "stderr",
     "output_type": "stream",
     "text": [
      "  Traceback (most recent call last):\n",
      "    File \"<string>\", line 2, in <module>\n",
      "    File \"<pip-setuptools-caller>\", line 34, in <module>\n",
      "    File \"C:\\Users\\saran\\AppData\\Local\\Temp\\pip-install-ml3lae0e\\sh_edbda3ce98434da4ac45ac5026b9dcff\\setup.py\", line 5, in <module>\n",
      "      import sh\n",
      "    File \"C:\\Users\\saran\\AppData\\Local\\Temp\\pip-install-ml3lae0e\\sh_edbda3ce98434da4ac45ac5026b9dcff\\sh.py\", line 37, in <module>\n",
      "      import fcntl\n",
      "  ModuleNotFoundError: No module named 'fcntl'\n",
      "  [end of output]\n",
      "  \n",
      "  note: This error originates from a subprocess, and is likely not a problem with pip.\n",
      "error: metadata-generation-failed\n",
      "\n",
      "Encountered error while generating package metadata.\n",
      "\n",
      "See above for output.\n",
      "\n",
      "note: This is an issue with the package mentioned above, not pip.\n",
      "hint: See above for details.\n"
     ]
    }
   ],
   "source": [
    "!pip install lux"
   ]
  },
  {
   "cell_type": "code",
   "execution_count": 21,
   "id": "c5c36960",
   "metadata": {},
   "outputs": [
    {
     "name": "stdout",
     "output_type": "stream",
     "text": [
      "Collecting lux-api"
     ]
    },
    {
     "name": "stderr",
     "output_type": "stream",
     "text": [
      "  error: subprocess-exited-with-error\n",
      "  \n",
      "  python setup.py egg_info did not run successfully.\n",
      "  exit code: 1\n",
      "  \n",
      "  [8 lines of output]\n",
      "  Traceback (most recent call last):\n",
      "    File \"<string>\", line 2, in <module>\n",
      "    File \"<pip-setuptools-caller>\", line 34, in <module>\n",
      "    File \"C:\\Users\\saran\\AppData\\Local\\Temp\\pip-install-iv3_jwby\\sh_cd5cd3c025d646c283cc82c9425d7afa\\setup.py\", line 5, in <module>\n",
      "      import sh\n",
      "    File \"C:\\Users\\saran\\AppData\\Local\\Temp\\pip-install-iv3_jwby\\sh_cd5cd3c025d646c283cc82c9425d7afa\\sh.py\", line 37, in <module>\n",
      "      import fcntl\n",
      "  ModuleNotFoundError: No module named 'fcntl'\n",
      "  [end of output]\n",
      "  \n",
      "  note: This error originates from a subprocess, and is likely not a problem with pip.\n",
      "error: metadata-generation-failed\n",
      "\n",
      "Encountered error while generating package metadata.\n",
      "\n",
      "See above for output.\n",
      "\n",
      "note: This is an issue with the package mentioned above, not pip.\n",
      "hint: See above for details.\n"
     ]
    },
    {
     "name": "stdout",
     "output_type": "stream",
     "text": [
      "\n",
      "  Using cached lux-api-0.5.1.tar.gz (127 kB)\n",
      "  Installing build dependencies: started\n",
      "  Installing build dependencies: finished with status 'done'\n",
      "  Getting requirements to build wheel: started\n",
      "  Getting requirements to build wheel: finished with status 'done'\n",
      "  Preparing metadata (pyproject.toml): started\n",
      "  Preparing metadata (pyproject.toml): finished with status 'done'\n",
      "Requirement already satisfied: autopep8>=1.5 in c:\\users\\saran\\anaconda3\\lib\\site-packages (from lux-api) (1.6.0)\n",
      "Collecting iso3166\n",
      "  Using cached iso3166-2.1.1-py3-none-any.whl (9.8 kB)\n",
      "Collecting altair>=4.0.0\n",
      "  Downloading altair-4.2.0-py3-none-any.whl (812 kB)\n",
      "     -------------------------------------- 812.8/812.8 kB 1.8 MB/s eta 0:00:00\n",
      "Collecting lux-widget>=0.1.4\n",
      "  Using cached lux-widget-0.1.11.tar.gz (2.5 MB)\n",
      "  Preparing metadata (setup.py): started\n",
      "  Preparing metadata (setup.py): finished with status 'done'\n",
      "Requirement already satisfied: psutil>=5.9.0 in c:\\users\\saran\\anaconda3\\lib\\site-packages (from lux-api) (5.9.0)\n",
      "Requirement already satisfied: scipy>=1.3.3 in c:\\users\\saran\\anaconda3\\lib\\site-packages (from lux-api) (1.9.1)\n",
      "Requirement already satisfied: matplotlib>=3.0.0 in c:\\users\\saran\\anaconda3\\lib\\site-packages (from lux-api) (3.5.2)\n",
      "Requirement already satisfied: numpy>=1.16.5 in c:\\users\\saran\\anaconda3\\lib\\site-packages (from lux-api) (1.21.5)\n",
      "Requirement already satisfied: scikit-learn>=0.22 in c:\\users\\saran\\anaconda3\\lib\\site-packages (from lux-api) (1.1.1)\n",
      "Requirement already satisfied: pandas in c:\\users\\saran\\anaconda3\\lib\\site-packages (from lux-api) (1.4.3)\n",
      "Collecting sh\n",
      "  Using cached sh-1.14.3.tar.gz (62 kB)\n",
      "  Preparing metadata (setup.py): started\n",
      "  Preparing metadata (setup.py): finished with status 'error'\n"
     ]
    },
    {
     "name": "stderr",
     "output_type": "stream",
     "text": [
      "Traceback (most recent call last):\n",
      "  File \"C:\\Users\\saran\\anaconda3\\Scripts\\jupyter-nbextension-script.py\", line 10, in <module>\n",
      "    sys.exit(main())\n",
      "  File \"C:\\Users\\saran\\anaconda3\\lib\\site-packages\\jupyter_core\\application.py\", line 269, in launch_instance\n",
      "    return super().launch_instance(argv=argv, **kwargs)\n",
      "  File \"C:\\Users\\saran\\anaconda3\\lib\\site-packages\\traitlets\\config\\application.py\", line 846, in launch_instance\n",
      "    app.start()\n",
      "  File \"C:\\Users\\saran\\anaconda3\\lib\\site-packages\\notebook\\nbextensions.py\", line 980, in start\n",
      "    super().start()\n",
      "  File \"C:\\Users\\saran\\anaconda3\\lib\\site-packages\\jupyter_core\\application.py\", line 258, in start\n",
      "    self.subapp.start()\n",
      "  File \"C:\\Users\\saran\\anaconda3\\lib\\site-packages\\notebook\\nbextensions.py\", line 708, in start\n",
      "    self.install_extensions()\n",
      "  File \"C:\\Users\\saran\\anaconda3\\lib\\site-packages\\notebook\\nbextensions.py\", line 679, in install_extensions\n",
      "    full_dests = install(self.extra_args[0],\n",
      "  File \"C:\\Users\\saran\\anaconda3\\lib\\site-packages\\notebook\\nbextensions.py\", line 203, in install_nbextension_python\n",
      "    m, nbexts = _get_nbextension_metadata(module)\n",
      "  File \"C:\\Users\\saran\\anaconda3\\lib\\site-packages\\notebook\\nbextensions.py\", line 1114, in _get_nbextension_metadata\n",
      "    m = import_item(module)\n",
      "  File \"C:\\Users\\saran\\anaconda3\\lib\\site-packages\\traitlets\\utils\\importstring.py\", line 38, in import_item\n",
      "    return __import__(parts[0])\n",
      "ModuleNotFoundError: No module named 'luxwidget'\n",
      "Traceback (most recent call last):\n",
      "  File \"C:\\Users\\saran\\anaconda3\\Scripts\\jupyter-nbextension-script.py\", line 10, in <module>\n",
      "    sys.exit(main())\n",
      "  File \"C:\\Users\\saran\\anaconda3\\lib\\site-packages\\jupyter_core\\application.py\", line 269, in launch_instance\n",
      "    return super().launch_instance(argv=argv, **kwargs)\n",
      "  File \"C:\\Users\\saran\\anaconda3\\lib\\site-packages\\traitlets\\config\\application.py\", line 846, in launch_instance\n",
      "    app.start()\n",
      "  File \"C:\\Users\\saran\\anaconda3\\lib\\site-packages\\notebook\\nbextensions.py\", line 980, in start\n",
      "    super().start()\n",
      "  File \"C:\\Users\\saran\\anaconda3\\lib\\site-packages\\jupyter_core\\application.py\", line 258, in start\n",
      "    self.subapp.start()\n",
      "  File \"C:\\Users\\saran\\anaconda3\\lib\\site-packages\\notebook\\nbextensions.py\", line 888, in start\n",
      "    self.toggle_nbextension_python(self.extra_args[0])\n",
      "  File \"C:\\Users\\saran\\anaconda3\\lib\\site-packages\\notebook\\nbextensions.py\", line 861, in toggle_nbextension_python\n",
      "    return toggle(module,\n",
      "  File \"C:\\Users\\saran\\anaconda3\\lib\\site-packages\\notebook\\nbextensions.py\", line 474, in enable_nbextension_python\n",
      "    return _set_nbextension_state_python(True, module, user, sys_prefix,\n",
      "  File \"C:\\Users\\saran\\anaconda3\\lib\\site-packages\\notebook\\nbextensions.py\", line 372, in _set_nbextension_state_python\n",
      "    m, nbexts = _get_nbextension_metadata(module)\n",
      "  File \"C:\\Users\\saran\\anaconda3\\lib\\site-packages\\notebook\\nbextensions.py\", line 1114, in _get_nbextension_metadata\n",
      "    m = import_item(module)\n",
      "  File \"C:\\Users\\saran\\anaconda3\\lib\\site-packages\\traitlets\\utils\\importstring.py\", line 38, in import_item\n",
      "    return __import__(parts[0])\n",
      "ModuleNotFoundError: No module named 'luxwidget'\n"
     ]
    }
   ],
   "source": [
    "! pip install lux-api \n",
    "! jupyter nbextension install --py luxwidget \n",
    "! jupyter nbextension enable --py luxwidget"
   ]
  },
  {
   "cell_type": "code",
   "execution_count": 23,
   "id": "cbb808e5",
   "metadata": {},
   "outputs": [
    {
     "name": "stdout",
     "output_type": "stream",
     "text": [
      "Collecting pandas_visual_analysis\n",
      "  Downloading pandas_visual_analysis-0.0.4-py3-none-any.whl (34 kB)\n",
      "Requirement already satisfied: ipywidgets>=7.5.1 in c:\\users\\saran\\anaconda3\\lib\\site-packages (from pandas_visual_analysis) (7.6.5)\n",
      "Requirement already satisfied: numpy>=1.19.1 in c:\\users\\saran\\anaconda3\\lib\\site-packages (from pandas_visual_analysis) (1.21.5)\n",
      "Requirement already satisfied: setuptools>=49.2.0 in c:\\users\\saran\\anaconda3\\lib\\site-packages (from pandas_visual_analysis) (63.4.1)\n",
      "Collecting blinker>=1.4\n",
      "  Downloading blinker-1.5-py2.py3-none-any.whl (12 kB)\n",
      "Requirement already satisfied: plotly>=4.10.0 in c:\\users\\saran\\anaconda3\\lib\\site-packages (from pandas_visual_analysis) (5.9.0)\n",
      "Requirement already satisfied: pandas>=1.1.0 in c:\\users\\saran\\anaconda3\\lib\\site-packages (from pandas_visual_analysis) (1.4.3)\n",
      "Requirement already satisfied: nbformat>=4.2.0 in c:\\users\\saran\\anaconda3\\lib\\site-packages (from ipywidgets>=7.5.1->pandas_visual_analysis) (5.3.0)\n",
      "Requirement already satisfied: jupyterlab-widgets>=1.0.0 in c:\\users\\saran\\anaconda3\\lib\\site-packages (from ipywidgets>=7.5.1->pandas_visual_analysis) (1.0.0)\n",
      "Requirement already satisfied: ipython-genutils~=0.2.0 in c:\\users\\saran\\anaconda3\\lib\\site-packages (from ipywidgets>=7.5.1->pandas_visual_analysis) (0.2.0)\n",
      "Requirement already satisfied: ipython>=4.0.0 in c:\\users\\saran\\anaconda3\\lib\\site-packages (from ipywidgets>=7.5.1->pandas_visual_analysis) (8.4.0)\n",
      "Requirement already satisfied: traitlets>=4.3.1 in c:\\users\\saran\\anaconda3\\lib\\site-packages (from ipywidgets>=7.5.1->pandas_visual_analysis) (5.1.1)\n",
      "Requirement already satisfied: ipykernel>=4.5.1 in c:\\users\\saran\\anaconda3\\lib\\site-packages (from ipywidgets>=7.5.1->pandas_visual_analysis) (6.9.1)\n",
      "Requirement already satisfied: widgetsnbextension~=3.5.0 in c:\\users\\saran\\anaconda3\\lib\\site-packages (from ipywidgets>=7.5.1->pandas_visual_analysis) (3.5.2)\n",
      "Requirement already satisfied: python-dateutil>=2.8.1 in c:\\users\\saran\\anaconda3\\lib\\site-packages (from pandas>=1.1.0->pandas_visual_analysis) (2.8.2)\n",
      "Requirement already satisfied: pytz>=2020.1 in c:\\users\\saran\\anaconda3\\lib\\site-packages (from pandas>=1.1.0->pandas_visual_analysis) (2022.1)\n",
      "Requirement already satisfied: tenacity>=6.2.0 in c:\\users\\saran\\anaconda3\\lib\\site-packages (from plotly>=4.10.0->pandas_visual_analysis) (8.0.1)\n",
      "Requirement already satisfied: debugpy<2.0,>=1.0.0 in c:\\users\\saran\\anaconda3\\lib\\site-packages (from ipykernel>=4.5.1->ipywidgets>=7.5.1->pandas_visual_analysis) (1.5.1)\n",
      "Requirement already satisfied: nest-asyncio in c:\\users\\saran\\anaconda3\\lib\\site-packages (from ipykernel>=4.5.1->ipywidgets>=7.5.1->pandas_visual_analysis) (1.5.5)\n",
      "Requirement already satisfied: jupyter-client<8.0 in c:\\users\\saran\\anaconda3\\lib\\site-packages (from ipykernel>=4.5.1->ipywidgets>=7.5.1->pandas_visual_analysis) (6.1.12)\n",
      "Requirement already satisfied: tornado<7.0,>=4.2 in c:\\users\\saran\\anaconda3\\lib\\site-packages (from ipykernel>=4.5.1->ipywidgets>=7.5.1->pandas_visual_analysis) (6.1)\n",
      "Requirement already satisfied: matplotlib-inline<0.2.0,>=0.1.0 in c:\\users\\saran\\anaconda3\\lib\\site-packages (from ipykernel>=4.5.1->ipywidgets>=7.5.1->pandas_visual_analysis) (0.1.6)\n",
      "Requirement already satisfied: decorator in c:\\users\\saran\\anaconda3\\lib\\site-packages (from ipython>=4.0.0->ipywidgets>=7.5.1->pandas_visual_analysis) (5.1.1)\n",
      "Requirement already satisfied: prompt-toolkit!=3.0.0,!=3.0.1,<3.1.0,>=2.0.0 in c:\\users\\saran\\anaconda3\\lib\\site-packages (from ipython>=4.0.0->ipywidgets>=7.5.1->pandas_visual_analysis) (3.0.20)\n",
      "Requirement already satisfied: jedi>=0.16 in c:\\users\\saran\\anaconda3\\lib\\site-packages (from ipython>=4.0.0->ipywidgets>=7.5.1->pandas_visual_analysis) (0.18.1)\n",
      "Requirement already satisfied: pygments>=2.4.0 in c:\\users\\saran\\anaconda3\\lib\\site-packages (from ipython>=4.0.0->ipywidgets>=7.5.1->pandas_visual_analysis) (2.11.2)\n",
      "Requirement already satisfied: pickleshare in c:\\users\\saran\\anaconda3\\lib\\site-packages (from ipython>=4.0.0->ipywidgets>=7.5.1->pandas_visual_analysis) (0.7.5)\n",
      "Requirement already satisfied: colorama in c:\\users\\saran\\anaconda3\\lib\\site-packages (from ipython>=4.0.0->ipywidgets>=7.5.1->pandas_visual_analysis) (0.4.5)\n",
      "Requirement already satisfied: backcall in c:\\users\\saran\\anaconda3\\lib\\site-packages (from ipython>=4.0.0->ipywidgets>=7.5.1->pandas_visual_analysis) (0.2.0)\n",
      "Requirement already satisfied: stack-data in c:\\users\\saran\\anaconda3\\lib\\site-packages (from ipython>=4.0.0->ipywidgets>=7.5.1->pandas_visual_analysis) (0.2.0)\n",
      "Requirement already satisfied: jupyter-core in c:\\users\\saran\\anaconda3\\lib\\site-packages (from nbformat>=4.2.0->ipywidgets>=7.5.1->pandas_visual_analysis) (4.10.0)\n",
      "Requirement already satisfied: jsonschema>=2.6 in c:\\users\\saran\\anaconda3\\lib\\site-packages (from nbformat>=4.2.0->ipywidgets>=7.5.1->pandas_visual_analysis) (4.4.0)\n",
      "Requirement already satisfied: fastjsonschema in c:\\users\\saran\\anaconda3\\lib\\site-packages (from nbformat>=4.2.0->ipywidgets>=7.5.1->pandas_visual_analysis) (2.16.2)\n",
      "Requirement already satisfied: six>=1.5 in c:\\users\\saran\\anaconda3\\lib\\site-packages (from python-dateutil>=2.8.1->pandas>=1.1.0->pandas_visual_analysis) (1.16.0)\n",
      "Requirement already satisfied: notebook>=4.4.1 in c:\\users\\saran\\anaconda3\\lib\\site-packages (from widgetsnbextension~=3.5.0->ipywidgets>=7.5.1->pandas_visual_analysis) (6.4.8)\n",
      "Requirement already satisfied: parso<0.9.0,>=0.8.0 in c:\\users\\saran\\anaconda3\\lib\\site-packages (from jedi>=0.16->ipython>=4.0.0->ipywidgets>=7.5.1->pandas_visual_analysis) (0.8.3)\n",
      "Requirement already satisfied: pyrsistent!=0.17.0,!=0.17.1,!=0.17.2,>=0.14.0 in c:\\users\\saran\\anaconda3\\lib\\site-packages (from jsonschema>=2.6->nbformat>=4.2.0->ipywidgets>=7.5.1->pandas_visual_analysis) (0.18.0)\n",
      "Requirement already satisfied: attrs>=17.4.0 in c:\\users\\saran\\anaconda3\\lib\\site-packages (from jsonschema>=2.6->nbformat>=4.2.0->ipywidgets>=7.5.1->pandas_visual_analysis) (21.4.0)\n",
      "Requirement already satisfied: pyzmq>=13 in c:\\users\\saran\\anaconda3\\lib\\site-packages (from jupyter-client<8.0->ipykernel>=4.5.1->ipywidgets>=7.5.1->pandas_visual_analysis) (23.2.0)\n",
      "Requirement already satisfied: pywin32>=1.0 in c:\\users\\saran\\anaconda3\\lib\\site-packages (from jupyter-core->nbformat>=4.2.0->ipywidgets>=7.5.1->pandas_visual_analysis) (302)\n",
      "Requirement already satisfied: argon2-cffi in c:\\users\\saran\\anaconda3\\lib\\site-packages (from notebook>=4.4.1->widgetsnbextension~=3.5.0->ipywidgets>=7.5.1->pandas_visual_analysis) (21.3.0)\n",
      "Requirement already satisfied: Send2Trash>=1.8.0 in c:\\users\\saran\\anaconda3\\lib\\site-packages (from notebook>=4.4.1->widgetsnbextension~=3.5.0->ipywidgets>=7.5.1->pandas_visual_analysis) (1.8.0)\n",
      "Requirement already satisfied: jinja2 in c:\\users\\saran\\anaconda3\\lib\\site-packages (from notebook>=4.4.1->widgetsnbextension~=3.5.0->ipywidgets>=7.5.1->pandas_visual_analysis) (3.0.3)\n",
      "Requirement already satisfied: nbconvert in c:\\users\\saran\\anaconda3\\lib\\site-packages (from notebook>=4.4.1->widgetsnbextension~=3.5.0->ipywidgets>=7.5.1->pandas_visual_analysis) (6.4.4)\n",
      "Requirement already satisfied: terminado>=0.8.3 in c:\\users\\saran\\anaconda3\\lib\\site-packages (from notebook>=4.4.1->widgetsnbextension~=3.5.0->ipywidgets>=7.5.1->pandas_visual_analysis) (0.13.1)\n",
      "Requirement already satisfied: prometheus-client in c:\\users\\saran\\anaconda3\\lib\\site-packages (from notebook>=4.4.1->widgetsnbextension~=3.5.0->ipywidgets>=7.5.1->pandas_visual_analysis) (0.14.1)\n",
      "Requirement already satisfied: wcwidth in c:\\users\\saran\\anaconda3\\lib\\site-packages (from prompt-toolkit!=3.0.0,!=3.0.1,<3.1.0,>=2.0.0->ipython>=4.0.0->ipywidgets>=7.5.1->pandas_visual_analysis) (0.2.5)\n",
      "Requirement already satisfied: asttokens in c:\\users\\saran\\anaconda3\\lib\\site-packages (from stack-data->ipython>=4.0.0->ipywidgets>=7.5.1->pandas_visual_analysis) (2.0.5)\n",
      "Requirement already satisfied: executing in c:\\users\\saran\\anaconda3\\lib\\site-packages (from stack-data->ipython>=4.0.0->ipywidgets>=7.5.1->pandas_visual_analysis) (0.8.3)\n",
      "Requirement already satisfied: pure-eval in c:\\users\\saran\\anaconda3\\lib\\site-packages (from stack-data->ipython>=4.0.0->ipywidgets>=7.5.1->pandas_visual_analysis) (0.2.2)\n",
      "Requirement already satisfied: pywinpty>=1.1.0 in c:\\users\\saran\\anaconda3\\lib\\site-packages (from terminado>=0.8.3->notebook>=4.4.1->widgetsnbextension~=3.5.0->ipywidgets>=7.5.1->pandas_visual_analysis) (2.0.2)\n",
      "Requirement already satisfied: argon2-cffi-bindings in c:\\users\\saran\\anaconda3\\lib\\site-packages (from argon2-cffi->notebook>=4.4.1->widgetsnbextension~=3.5.0->ipywidgets>=7.5.1->pandas_visual_analysis) (21.2.0)\n",
      "Requirement already satisfied: MarkupSafe>=2.0 in c:\\users\\saran\\anaconda3\\lib\\site-packages (from jinja2->notebook>=4.4.1->widgetsnbextension~=3.5.0->ipywidgets>=7.5.1->pandas_visual_analysis) (2.1.1)\n",
      "Requirement already satisfied: pandocfilters>=1.4.1 in c:\\users\\saran\\anaconda3\\lib\\site-packages (from nbconvert->notebook>=4.4.1->widgetsnbextension~=3.5.0->ipywidgets>=7.5.1->pandas_visual_analysis) (1.5.0)\n",
      "Requirement already satisfied: defusedxml in c:\\users\\saran\\anaconda3\\lib\\site-packages (from nbconvert->notebook>=4.4.1->widgetsnbextension~=3.5.0->ipywidgets>=7.5.1->pandas_visual_analysis) (0.7.1)\n",
      "Requirement already satisfied: beautifulsoup4 in c:\\users\\saran\\anaconda3\\lib\\site-packages (from nbconvert->notebook>=4.4.1->widgetsnbextension~=3.5.0->ipywidgets>=7.5.1->pandas_visual_analysis) (4.11.1)\n",
      "Requirement already satisfied: mistune<2,>=0.8.1 in c:\\users\\saran\\anaconda3\\lib\\site-packages (from nbconvert->notebook>=4.4.1->widgetsnbextension~=3.5.0->ipywidgets>=7.5.1->pandas_visual_analysis) (0.8.4)\n",
      "Requirement already satisfied: entrypoints>=0.2.2 in c:\\users\\saran\\anaconda3\\lib\\site-packages (from nbconvert->notebook>=4.4.1->widgetsnbextension~=3.5.0->ipywidgets>=7.5.1->pandas_visual_analysis) (0.4)\n",
      "Requirement already satisfied: nbclient<0.6.0,>=0.5.0 in c:\\users\\saran\\anaconda3\\lib\\site-packages (from nbconvert->notebook>=4.4.1->widgetsnbextension~=3.5.0->ipywidgets>=7.5.1->pandas_visual_analysis) (0.5.13)\n",
      "Requirement already satisfied: testpath in c:\\users\\saran\\anaconda3\\lib\\site-packages (from nbconvert->notebook>=4.4.1->widgetsnbextension~=3.5.0->ipywidgets>=7.5.1->pandas_visual_analysis) (0.6.0)\n",
      "Requirement already satisfied: jupyterlab-pygments in c:\\users\\saran\\anaconda3\\lib\\site-packages (from nbconvert->notebook>=4.4.1->widgetsnbextension~=3.5.0->ipywidgets>=7.5.1->pandas_visual_analysis) (0.1.2)\n",
      "Requirement already satisfied: bleach in c:\\users\\saran\\anaconda3\\lib\\site-packages (from nbconvert->notebook>=4.4.1->widgetsnbextension~=3.5.0->ipywidgets>=7.5.1->pandas_visual_analysis) (4.1.0)\n",
      "Requirement already satisfied: cffi>=1.0.1 in c:\\users\\saran\\anaconda3\\lib\\site-packages (from argon2-cffi-bindings->argon2-cffi->notebook>=4.4.1->widgetsnbextension~=3.5.0->ipywidgets>=7.5.1->pandas_visual_analysis) (1.15.1)\n",
      "Requirement already satisfied: soupsieve>1.2 in c:\\users\\saran\\anaconda3\\lib\\site-packages (from beautifulsoup4->nbconvert->notebook>=4.4.1->widgetsnbextension~=3.5.0->ipywidgets>=7.5.1->pandas_visual_analysis) (2.3.1)\n",
      "Requirement already satisfied: packaging in c:\\users\\saran\\anaconda3\\lib\\site-packages (from bleach->nbconvert->notebook>=4.4.1->widgetsnbextension~=3.5.0->ipywidgets>=7.5.1->pandas_visual_analysis) (21.3)\n"
     ]
    },
    {
     "name": "stderr",
     "output_type": "stream",
     "text": [
      "Exception ignored in: <function Socket.__del__ at 0x00000192B39EC700>\n",
      "Traceback (most recent call last):\n",
      "  File \"C:\\Users\\saran\\anaconda3\\lib\\site-packages\\zmq\\sugar\\socket.py\", line 112, in __del__\n",
      "    warn(\n",
      "TypeError: issubclass() arg 2 must be a class or tuple of classes\n"
     ]
    },
    {
     "name": "stdout",
     "output_type": "stream",
     "text": [
      "Requirement already satisfied: webencodings in c:\\users\\saran\\anaconda3\\lib\\site-packages (from bleach->nbconvert->notebook>=4.4.1->widgetsnbextension~=3.5.0->ipywidgets>=7.5.1->pandas_visual_analysis) (0.5.1)\n",
      "Requirement already satisfied: pycparser in c:\\users\\saran\\anaconda3\\lib\\site-packages (from cffi>=1.0.1->argon2-cffi-bindings->argon2-cffi->notebook>=4.4.1->widgetsnbextension~=3.5.0->ipywidgets>=7.5.1->pandas_visual_analysis) (2.21)\n",
      "Requirement already satisfied: pyparsing!=3.0.5,>=2.0.2 in c:\\users\\saran\\anaconda3\\lib\\site-packages (from packaging->bleach->nbconvert->notebook>=4.4.1->widgetsnbextension~=3.5.0->ipywidgets>=7.5.1->pandas_visual_analysis) (3.0.9)\n",
      "Installing collected packages: blinker, pandas_visual_analysis\n",
      "Successfully installed blinker-1.5 pandas_visual_analysis-0.0.4\n"
     ]
    }
   ],
   "source": [
    "!pip install pandas_visual_analysis"
   ]
  },
  {
   "cell_type": "code",
   "execution_count": 28,
   "id": "f531d6f1",
   "metadata": {},
   "outputs": [],
   "source": [
    "from pandas_visual_analysis import VisualAnalysis"
   ]
  },
  {
   "cell_type": "code",
   "execution_count": 29,
   "id": "6b8a2653",
   "metadata": {},
   "outputs": [
    {
     "ename": "TypeError",
     "evalue": "issubclass() arg 2 must be a class or tuple of classes",
     "output_type": "error",
     "traceback": [
      "\u001b[1;31m---------------------------------------------------------------------------\u001b[0m",
      "\u001b[1;31mTypeError\u001b[0m                                 Traceback (most recent call last)",
      "File \u001b[1;32m~\\anaconda3\\lib\\site-packages\\IPython\\core\\formatters.py:921\u001b[0m, in \u001b[0;36mIPythonDisplayFormatter.__call__\u001b[1;34m(self, obj)\u001b[0m\n\u001b[0;32m    919\u001b[0m method \u001b[38;5;241m=\u001b[39m get_real_method(obj, \u001b[38;5;28mself\u001b[39m\u001b[38;5;241m.\u001b[39mprint_method)\n\u001b[0;32m    920\u001b[0m \u001b[38;5;28;01mif\u001b[39;00m method \u001b[38;5;129;01mis\u001b[39;00m \u001b[38;5;129;01mnot\u001b[39;00m \u001b[38;5;28;01mNone\u001b[39;00m:\n\u001b[1;32m--> 921\u001b[0m     \u001b[43mmethod\u001b[49m\u001b[43m(\u001b[49m\u001b[43m)\u001b[49m\n\u001b[0;32m    922\u001b[0m     \u001b[38;5;28;01mreturn\u001b[39;00m \u001b[38;5;28;01mTrue\u001b[39;00m\n",
      "File \u001b[1;32m~\\anaconda3\\lib\\site-packages\\pandas_visual_analysis\\visual_analysis.py:128\u001b[0m, in \u001b[0;36mVisualAnalysis._ipython_display_\u001b[1;34m(self)\u001b[0m\n\u001b[0;32m    122\u001b[0m \u001b[38;5;28;01mdef\u001b[39;00m \u001b[38;5;21m_ipython_display_\u001b[39m(\u001b[38;5;28mself\u001b[39m):\n\u001b[0;32m    123\u001b[0m     \u001b[38;5;124;03m\"\"\"\u001b[39;00m\n\u001b[0;32m    124\u001b[0m \u001b[38;5;124;03m    Builds the layout and calls :func:`IPython.core.display.display`\u001b[39;00m\n\u001b[0;32m    125\u001b[0m \n\u001b[0;32m    126\u001b[0m \u001b[38;5;124;03m    :return:\u001b[39;00m\n\u001b[0;32m    127\u001b[0m \u001b[38;5;124;03m    \"\"\"\u001b[39;00m\n\u001b[1;32m--> 128\u001b[0m     \u001b[38;5;28;01mfrom\u001b[39;00m \u001b[38;5;21;01mIPython\u001b[39;00m\u001b[38;5;21;01m.\u001b[39;00m\u001b[38;5;21;01mcore\u001b[39;00m\u001b[38;5;21;01m.\u001b[39;00m\u001b[38;5;21;01mdisplay\u001b[39;00m \u001b[38;5;28;01mimport\u001b[39;00m display\n\u001b[0;32m    129\u001b[0m     \u001b[38;5;28;01mfrom\u001b[39;00m \u001b[38;5;21;01mipywidgets\u001b[39;00m \u001b[38;5;28;01mimport\u001b[39;00m widgets\n\u001b[0;32m    131\u001b[0m     root_widget: widgets\u001b[38;5;241m.\u001b[39mWidget \u001b[38;5;241m=\u001b[39m \u001b[38;5;28mself\u001b[39m\u001b[38;5;241m.\u001b[39mlayout\u001b[38;5;241m.\u001b[39mbuild()\n",
      "File \u001b[1;32m~\\anaconda3\\lib\\site-packages\\IPython\\core\\display.py:44\u001b[0m, in \u001b[0;36m__getattr__\u001b[1;34m(name)\u001b[0m\n\u001b[0;32m     42\u001b[0m \u001b[38;5;28;01mdef\u001b[39;00m \u001b[38;5;21m__getattr__\u001b[39m(name):\n\u001b[0;32m     43\u001b[0m     \u001b[38;5;28;01mif\u001b[39;00m name \u001b[38;5;129;01min\u001b[39;00m _deprecated_names:\n\u001b[1;32m---> 44\u001b[0m         \u001b[43mwarn\u001b[49m\u001b[43m(\u001b[49m\u001b[38;5;124;43mf\u001b[39;49m\u001b[38;5;124;43m\"\u001b[39;49m\u001b[38;5;124;43mImporting \u001b[39;49m\u001b[38;5;132;43;01m{\u001b[39;49;00m\u001b[43mname\u001b[49m\u001b[38;5;132;43;01m}\u001b[39;49;00m\u001b[38;5;124;43m from IPython.core.display is deprecated since IPython 7.14, please import from IPython display\u001b[39;49m\u001b[38;5;124;43m\"\u001b[39;49m\u001b[43m,\u001b[49m\u001b[43m \u001b[49m\u001b[38;5;167;43;01mDeprecationWarning\u001b[39;49;00m\u001b[43m,\u001b[49m\u001b[43m \u001b[49m\u001b[43mstacklevel\u001b[49m\u001b[38;5;241;43m=\u001b[39;49m\u001b[38;5;241;43m2\u001b[39;49m\u001b[43m)\u001b[49m\n\u001b[0;32m     45\u001b[0m         \u001b[38;5;28;01mreturn\u001b[39;00m \u001b[38;5;28mgetattr\u001b[39m(display_functions, name)\n\u001b[0;32m     47\u001b[0m     \u001b[38;5;28;01mif\u001b[39;00m name \u001b[38;5;129;01min\u001b[39;00m \u001b[38;5;28mglobals\u001b[39m()\u001b[38;5;241m.\u001b[39mkeys():\n",
      "\u001b[1;31mTypeError\u001b[0m: issubclass() arg 2 must be a class or tuple of classes"
     ]
    },
    {
     "data": {
      "text/plain": [
       "<pandas_visual_analysis.visual_analysis.VisualAnalysis at 0x192d1797fa0>"
      ]
     },
     "execution_count": 29,
     "metadata": {},
     "output_type": "execute_result"
    }
   ],
   "source": [
    "VisualAnalysis(df)"
   ]
  },
  {
   "cell_type": "code",
   "execution_count": null,
   "id": "94860fd4",
   "metadata": {},
   "outputs": [],
   "source": [
    "from pandas_visual_analysis import Vis"
   ]
  },
  {
   "cell_type": "code",
   "execution_count": null,
   "id": "e262e530",
   "metadata": {},
   "outputs": [],
   "source": []
  }
 ],
 "metadata": {
  "kernelspec": {
   "display_name": "Python 3 (ipykernel)",
   "language": "python",
   "name": "python3"
  },
  "language_info": {
   "codemirror_mode": {
    "name": "ipython",
    "version": 3
   },
   "file_extension": ".py",
   "mimetype": "text/x-python",
   "name": "python",
   "nbconvert_exporter": "python",
   "pygments_lexer": "ipython3",
   "version": "3.9.12"
  }
 },
 "nbformat": 4,
 "nbformat_minor": 5
}
